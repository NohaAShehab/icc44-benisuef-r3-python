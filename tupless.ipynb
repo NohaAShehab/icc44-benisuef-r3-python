{
 "cells": [
  {
   "metadata": {},
   "cell_type": "markdown",
   "source": [
    "tuple is one of the sequences\n",
    "1- define a tuple "
   ],
   "id": "9907252559690ad3"
  },
  {
   "cell_type": "code",
   "id": "initial_id",
   "metadata": {
    "collapsed": true,
    "ExecuteTime": {
     "end_time": "2024-05-21T08:37:48.056807Z",
     "start_time": "2024-05-21T08:37:48.050844Z"
    }
   },
   "source": [
    "myt = ()\n",
    "myt2=  ('ahmed',34, 33.33, 'iti',True, None, 'iti', ['python', 'sql', 'powerbi'])\n",
    "print(myt, myt2)"
   ],
   "outputs": [
    {
     "name": "stdout",
     "output_type": "stream",
     "text": [
      "() ('ahmed', 34, 33.33, 'iti', True, None, 'iti', ['python', 'sql', 'powerbi'])\n"
     ]
    }
   ],
   "execution_count": 2
  },
  {
   "metadata": {},
   "cell_type": "markdown",
   "source": "get len of tuple",
   "id": "acd8a5ed5251ba07"
  },
  {
   "metadata": {
    "ExecuteTime": {
     "end_time": "2024-05-21T08:38:19.548746Z",
     "start_time": "2024-05-21T08:38:19.545157Z"
    }
   },
   "cell_type": "code",
   "source": "print(len(myt2))",
   "id": "f869f1c9e31b84c0",
   "outputs": [
    {
     "name": "stdout",
     "output_type": "stream",
     "text": [
      "8\n"
     ]
    }
   ],
   "execution_count": 3
  },
  {
   "metadata": {},
   "cell_type": "markdown",
   "source": "count element occurrence in the tuple",
   "id": "3efadbba1f2436da"
  },
  {
   "metadata": {
    "ExecuteTime": {
     "end_time": "2024-05-21T08:38:33.412655Z",
     "start_time": "2024-05-21T08:38:33.409058Z"
    }
   },
   "cell_type": "code",
   "source": "print(myt2.count('iti'))",
   "id": "50fd7762ff1a5d8d",
   "outputs": [
    {
     "name": "stdout",
     "output_type": "stream",
     "text": [
      "2\n"
     ]
    }
   ],
   "execution_count": 4
  },
  {
   "metadata": {},
   "cell_type": "markdown",
   "source": "get index of element",
   "id": "f727a406377200c8"
  },
  {
   "metadata": {
    "ExecuteTime": {
     "end_time": "2024-05-21T08:38:40.478087Z",
     "start_time": "2024-05-21T08:38:40.473732Z"
    }
   },
   "cell_type": "code",
   "source": "print(myt2.index('iti'))",
   "id": "eddc8dd102fe88a8",
   "outputs": [
    {
     "name": "stdout",
     "output_type": "stream",
     "text": [
      "3\n"
     ]
    }
   ],
   "execution_count": 5
  },
  {
   "metadata": {},
   "cell_type": "markdown",
   "source": "tuple is iterable ",
   "id": "d1d4b13633a5841d"
  },
  {
   "metadata": {
    "ExecuteTime": {
     "end_time": "2024-05-21T08:38:59.803583Z",
     "start_time": "2024-05-21T08:38:59.798796Z"
    }
   },
   "cell_type": "code",
   "source": [
    "for abbass in myt2:\n",
    "    print(f\"item = {abbass}\")"
   ],
   "id": "a621253e21c95e2c",
   "outputs": [
    {
     "name": "stdout",
     "output_type": "stream",
     "text": [
      "item = ahmed\n",
      "item = 34\n",
      "item = 33.33\n",
      "item = iti\n",
      "item = True\n",
      "item = None\n",
      "item = iti\n",
      "item = ['python', 'sql', 'powerbi']\n"
     ]
    }
   ],
   "execution_count": 6
  },
  {
   "metadata": {},
   "cell_type": "markdown",
   "source": "slicing tuple ",
   "id": "6f868a53906aac75"
  },
  {
   "metadata": {
    "ExecuteTime": {
     "end_time": "2024-05-21T08:39:14.174615Z",
     "start_time": "2024-05-21T08:39:14.171129Z"
    }
   },
   "cell_type": "code",
   "source": "print(myt2[2])",
   "id": "44b5772174f4c0ca",
   "outputs": [
    {
     "name": "stdout",
     "output_type": "stream",
     "text": [
      "33.33\n"
     ]
    }
   ],
   "execution_count": 7
  },
  {
   "metadata": {
    "ExecuteTime": {
     "end_time": "2024-05-21T08:39:19.656126Z",
     "start_time": "2024-05-21T08:39:19.651469Z"
    }
   },
   "cell_type": "code",
   "source": "print(myt2[3:])",
   "id": "e813bea8b056bed",
   "outputs": [
    {
     "name": "stdout",
     "output_type": "stream",
     "text": [
      "('iti', True, None, 'iti', ['python', 'sql', 'powerbi'])\n"
     ]
    }
   ],
   "execution_count": 8
  },
  {
   "metadata": {
    "ExecuteTime": {
     "end_time": "2024-05-21T08:39:25.822334Z",
     "start_time": "2024-05-21T08:39:25.818395Z"
    }
   },
   "cell_type": "code",
   "source": "print(myt2[::2])",
   "id": "9090910760eff781",
   "outputs": [
    {
     "name": "stdout",
     "output_type": "stream",
     "text": [
      "('ahmed', 33.33, True, 'iti')\n"
     ]
    }
   ],
   "execution_count": 9
  },
  {
   "metadata": {},
   "cell_type": "markdown",
   "source": "check if element exists in tuple or not ",
   "id": "7e86a1a53c1f14f6"
  },
  {
   "metadata": {
    "ExecuteTime": {
     "end_time": "2024-05-21T08:39:39.196191Z",
     "start_time": "2024-05-21T08:39:39.192010Z"
    }
   },
   "cell_type": "code",
   "source": "print('noha' in myt2)",
   "id": "8d297a57ab71ce18",
   "outputs": [
    {
     "name": "stdout",
     "output_type": "stream",
     "text": [
      "False\n"
     ]
    }
   ],
   "execution_count": 10
  },
  {
   "metadata": {},
   "cell_type": "markdown",
   "source": [
    "can I update tuple content ?? \n",
    "No --> tuple is immutable data ==> its content cannoy be changed after creation"
   ],
   "id": "faac58b727506dd3"
  },
  {
   "metadata": {
    "ExecuteTime": {
     "end_time": "2024-05-21T08:41:13.409622Z",
     "start_time": "2024-05-21T08:41:13.405417Z"
    }
   },
   "cell_type": "code",
   "source": "print(myt2[1])",
   "id": "9c32852d61b148f0",
   "outputs": [
    {
     "name": "stdout",
     "output_type": "stream",
     "text": [
      "34\n"
     ]
    }
   ],
   "execution_count": 12
  },
  {
   "metadata": {
    "ExecuteTime": {
     "end_time": "2024-05-21T08:41:16.188996Z",
     "start_time": "2024-05-21T08:41:15.981019Z"
    }
   },
   "cell_type": "code",
   "source": [
    "print(myt2)\n",
    "myt2[1]='updated'\n",
    "print(myt2)"
   ],
   "id": "90a0e2aa50cc4c86",
   "outputs": [
    {
     "name": "stdout",
     "output_type": "stream",
     "text": [
      "('ahmed', 34, 33.33, 'iti', True, None, 'iti', ['python', 'sql', 'powerbi'])\n"
     ]
    },
    {
     "ename": "TypeError",
     "evalue": "'tuple' object does not support item assignment",
     "output_type": "error",
     "traceback": [
      "\u001B[0;31m---------------------------------------------------------------------------\u001B[0m",
      "\u001B[0;31mTypeError\u001B[0m                                 Traceback (most recent call last)",
      "Cell \u001B[0;32mIn[13], line 2\u001B[0m\n\u001B[1;32m      1\u001B[0m \u001B[38;5;28mprint\u001B[39m(myt2)\n\u001B[0;32m----> 2\u001B[0m \u001B[43mmyt2\u001B[49m\u001B[43m[\u001B[49m\u001B[38;5;241;43m1\u001B[39;49m\u001B[43m]\u001B[49m\u001B[38;5;241m=\u001B[39m\u001B[38;5;124m'\u001B[39m\u001B[38;5;124mupdated\u001B[39m\u001B[38;5;124m'\u001B[39m\n\u001B[1;32m      3\u001B[0m \u001B[38;5;28mprint\u001B[39m(myt2)\n",
      "\u001B[0;31mTypeError\u001B[0m: 'tuple' object does not support item assignment"
     ]
    }
   ],
   "execution_count": 13
  },
  {
   "metadata": {
    "ExecuteTime": {
     "end_time": "2024-05-21T08:43:28.172320Z",
     "start_time": "2024-05-21T08:43:28.167518Z"
    }
   },
   "cell_type": "code",
   "source": [
    "print(myt2)\n",
    "print(myt2[7].pop())\n",
    "print(myt2)"
   ],
   "id": "716815f309e12a59",
   "outputs": [
    {
     "name": "stdout",
     "output_type": "stream",
     "text": [
      "('ahmed', 34, 33.33, 'iti', True, None, 'iti', ['python', 'sql', 'powerbi'])\n",
      "powerbi\n",
      "('ahmed', 34, 33.33, 'iti', True, None, 'iti', ['python', 'sql'])\n"
     ]
    }
   ],
   "execution_count": 15
  },
  {
   "metadata": {},
   "cell_type": "markdown",
   "source": [
    "tuple is immutable datatype \n",
    "-> concat"
   ],
   "id": "c86e4e46175500d3"
  },
  {
   "metadata": {
    "ExecuteTime": {
     "end_time": "2024-05-21T08:44:47.118670Z",
     "start_time": "2024-05-21T08:44:47.113976Z"
    }
   },
   "cell_type": "code",
   "source": [
    "l1= ('sql','python', 'powerbi' )\n",
    "l2  =('presentation skills', 'interview skills', 'communication skills', 'freelance')\n",
    "\n",
    "l3 = l1 + l2 # new tuple \n",
    "print(l3)"
   ],
   "id": "bedac5ffb8f7a422",
   "outputs": [
    {
     "name": "stdout",
     "output_type": "stream",
     "text": [
      "('sql', 'python', 'powerbi', 'presentation skills', 'interview skills', 'communication skills', 'freelance')\n"
     ]
    }
   ],
   "execution_count": 16
  },
  {
   "metadata": {},
   "cell_type": "raw",
   "source": "print element and its index in the tuple ??",
   "id": "6aead7526ba4bbcf"
  },
  {
   "metadata": {
    "ExecuteTime": {
     "end_time": "2024-05-21T08:45:40.176973Z",
     "start_time": "2024-05-21T08:45:40.173392Z"
    }
   },
   "cell_type": "code",
   "source": [
    "counter= 0\n",
    "for item_ in myt2:\n",
    "    print(f\"index={counter}, item={item_}\")\n",
    "    counter+=1\n",
    "    "
   ],
   "id": "42b83ceeb3da03fd",
   "outputs": [
    {
     "name": "stdout",
     "output_type": "stream",
     "text": [
      "index=0, item=ahmed\n",
      "index=1, item=34\n",
      "index=2, item=33.33\n",
      "index=3, item=iti\n",
      "index=4, item=True\n",
      "index=5, item=None\n",
      "index=6, item=iti\n",
      "index=7, item=['python', 'sql']\n"
     ]
    }
   ],
   "execution_count": 17
  },
  {
   "metadata": {},
   "cell_type": "markdown",
   "source": [
    "use enumerate function ??\n",
    "generate index for iterable --> tuple "
   ],
   "id": "906724789baf434"
  },
  {
   "metadata": {
    "ExecuteTime": {
     "end_time": "2024-05-21T08:45:48.309423Z",
     "start_time": "2024-05-21T08:45:48.303560Z"
    }
   },
   "cell_type": "code",
   "source": [
    "myt2_enum = enumerate(myt2)\n",
    "print(myt2_enum) # this is an iterable object (index, item)"
   ],
   "id": "9887e483e2ca059a",
   "outputs": [
    {
     "name": "stdout",
     "output_type": "stream",
     "text": [
      "<enumerate object at 0x7a35699f9ee0>\n"
     ]
    }
   ],
   "execution_count": 18
  },
  {
   "metadata": {
    "ExecuteTime": {
     "end_time": "2024-05-21T08:45:52.564232Z",
     "start_time": "2024-05-21T08:45:52.559318Z"
    }
   },
   "cell_type": "code",
   "source": [
    "for item_index, value in myt2_enum:\n",
    "    print(f\"{item_index}: {value}\")"
   ],
   "id": "c452f46952cedb02",
   "outputs": [
    {
     "name": "stdout",
     "output_type": "stream",
     "text": [
      "0: ahmed\n",
      "1: 34\n",
      "2: 33.33\n",
      "3: iti\n",
      "4: True\n",
      "5: None\n",
      "6: iti\n",
      "7: ['python', 'sql']\n"
     ]
    }
   ],
   "execution_count": 19
  },
  {
   "metadata": {},
   "cell_type": "markdown",
   "source": "cast string to a tuple ",
   "id": "a53fd994a7ae13c3"
  },
  {
   "metadata": {
    "ExecuteTime": {
     "end_time": "2024-05-21T08:46:13.648776Z",
     "start_time": "2024-05-21T08:46:13.642829Z"
    }
   },
   "cell_type": "code",
   "source": [
    "message  = 'hello from ghaza'\n",
    "message = tuple(message)\n",
    "print(message)"
   ],
   "id": "27c46f799063dc12",
   "outputs": [
    {
     "name": "stdout",
     "output_type": "stream",
     "text": [
      "('h', 'e', 'l', 'l', 'o', ' ', 'f', 'r', 'o', 'm', ' ', 'g', 'h', 'a', 'z', 'a')\n"
     ]
    }
   ],
   "execution_count": 20
  },
  {
   "metadata": {},
   "cell_type": "markdown",
   "source": "split string to a tuple ",
   "id": "65e3d972e10dac95"
  },
  {
   "metadata": {},
   "cell_type": "markdown",
   "source": "join tuple elements to one string  --> all tuple elements must be strings ",
   "id": "f94d03044bc9ec10"
  },
  {
   "metadata": {
    "ExecuteTime": {
     "end_time": "2024-05-21T08:46:41.692821Z",
     "start_time": "2024-05-21T08:46:41.688589Z"
    }
   },
   "cell_type": "code",
   "source": [
    "mytuple = ('we', 'love', 'python')\n",
    "myword = '_'.join(mytuple)\n",
    "print(myword, type(myword))"
   ],
   "id": "68a59470b6f5e5ad",
   "outputs": [
    {
     "name": "stdout",
     "output_type": "stream",
     "text": [
      "we_love_python <class 'str'>\n"
     ]
    }
   ],
   "execution_count": 21
  },
  {
   "metadata": {},
   "cell_type": "markdown",
   "source": "cast list to tuple ?",
   "id": "40da427b31efb938"
  },
  {
   "metadata": {
    "ExecuteTime": {
     "end_time": "2024-05-21T08:47:15.761024Z",
     "start_time": "2024-05-21T08:47:15.756675Z"
    }
   },
   "cell_type": "code",
   "source": [
    "l1 = [4,54,True,'iti']\n",
    "t = tuple(l1)\n",
    "print(t)"
   ],
   "id": "e4ea92e7157b02ad",
   "outputs": [
    {
     "name": "stdout",
     "output_type": "stream",
     "text": [
      "(4, 54, True, 'iti')\n"
     ]
    }
   ],
   "execution_count": 22
  },
  {
   "metadata": {
    "ExecuteTime": {
     "end_time": "2024-05-21T08:47:33.622910Z",
     "start_time": "2024-05-21T08:47:33.619417Z"
    }
   },
   "cell_type": "code",
   "source": [
    "t = list(t)\n",
    "print(t)"
   ],
   "id": "63db673f84922fa1",
   "outputs": [
    {
     "name": "stdout",
     "output_type": "stream",
     "text": [
      "[4, 54, True, 'iti']\n"
     ]
    }
   ],
   "execution_count": 23
  },
  {
   "metadata": {},
   "cell_type": "markdown",
   "source": "tuple of one item",
   "id": "ab14fe0cde66c0b8"
  },
  {
   "metadata": {
    "ExecuteTime": {
     "end_time": "2024-05-21T08:48:44.720492Z",
     "start_time": "2024-05-21T08:48:44.709957Z"
    }
   },
   "cell_type": "code",
   "source": [
    "names = ('ahmed',)\n",
    "print(names, type(names))"
   ],
   "id": "f0730d3256a0b547",
   "outputs": [
    {
     "name": "stdout",
     "output_type": "stream",
     "text": [
      "('ahmed',) <class 'tuple'>\n"
     ]
    }
   ],
   "execution_count": 25
  },
  {
   "metadata": {},
   "cell_type": "markdown",
   "source": "swap",
   "id": "8d2588ac87aa619"
  },
  {
   "metadata": {
    "ExecuteTime": {
     "end_time": "2024-05-21T08:53:59.650045Z",
     "start_time": "2024-05-21T08:53:59.645818Z"
    }
   },
   "cell_type": "code",
   "source": [
    "var1= 'iti'\n",
    "var2= 'python'\n",
    "\n",
    "temp = var1\n",
    "var1 = var2\n",
    "var2 = temp \n",
    "\n",
    "print(var1, var2)"
   ],
   "id": "597a8b02d5062e99",
   "outputs": [
    {
     "name": "stdout",
     "output_type": "stream",
     "text": [
      "python iti\n"
     ]
    }
   ],
   "execution_count": 26
  },
  {
   "metadata": {
    "ExecuteTime": {
     "end_time": "2024-05-21T08:54:28.809827Z",
     "start_time": "2024-05-21T08:54:28.805467Z"
    }
   },
   "cell_type": "code",
   "source": [
    "var1= 'iti'\n",
    "var2= 'python'\n",
    "print(var1, var2)\n",
    "var2, var1= var1, var2\n",
    "print(var1, var2)"
   ],
   "id": "2411368e46850d55",
   "outputs": [
    {
     "name": "stdout",
     "output_type": "stream",
     "text": [
      "iti python\n",
      "python iti\n"
     ]
    }
   ],
   "execution_count": 27
  },
  {
   "metadata": {},
   "cell_type": "code",
   "outputs": [],
   "execution_count": null,
   "source": "",
   "id": "1f14f666b235212b"
  }
 ],
 "metadata": {
  "kernelspec": {
   "display_name": "Python 3",
   "language": "python",
   "name": "python3"
  },
  "language_info": {
   "codemirror_mode": {
    "name": "ipython",
    "version": 2
   },
   "file_extension": ".py",
   "mimetype": "text/x-python",
   "name": "python",
   "nbconvert_exporter": "python",
   "pygments_lexer": "ipython2",
   "version": "2.7.6"
  }
 },
 "nbformat": 4,
 "nbformat_minor": 5
}
