{
 "cells": [
  {
   "cell_type": "code",
   "id": "initial_id",
   "metadata": {
    "collapsed": true,
    "ExecuteTime": {
     "end_time": "2024-05-20T07:54:26.704021Z",
     "start_time": "2024-05-20T07:54:26.694087Z"
    }
   },
   "source": [
    "num = 10\n",
    "print(type(num))"
   ],
   "outputs": [
    {
     "name": "stdout",
     "output_type": "stream",
     "text": [
      "<class 'int'>\n"
     ]
    }
   ],
   "execution_count": 1
  },
  {
   "metadata": {
    "ExecuteTime": {
     "end_time": "2024-05-20T07:54:46.709923Z",
     "start_time": "2024-05-20T07:54:46.703855Z"
    }
   },
   "cell_type": "code",
   "source": [
    "\"convert num to string\"\n",
    "num=  str(num)\n",
    "print(type(num), num)"
   ],
   "id": "53a49279c64de8ae",
   "outputs": [
    {
     "name": "stdout",
     "output_type": "stream",
     "text": [
      "<class 'str'> 10\n"
     ]
    }
   ],
   "execution_count": 2
  },
  {
   "metadata": {
    "ExecuteTime": {
     "end_time": "2024-05-20T07:55:19.767504Z",
     "start_time": "2024-05-20T07:55:19.761734Z"
    }
   },
   "cell_type": "code",
   "source": [
    "name='noha'\n",
    "name = bool(name)\n",
    "print(name)"
   ],
   "id": "6a5b25eedc1a3c86",
   "outputs": [
    {
     "name": "stdout",
     "output_type": "stream",
     "text": [
      "True\n"
     ]
    }
   ],
   "execution_count": 4
  },
  {
   "metadata": {
    "ExecuteTime": {
     "end_time": "2024-05-20T07:55:40.745313Z",
     "start_time": "2024-05-20T07:55:40.737013Z"
    }
   },
   "cell_type": "code",
   "source": [
    "year = '2024'\n",
    "print(type(year), year)"
   ],
   "id": "ce6eb1ff2e3adbf9",
   "outputs": [
    {
     "name": "stdout",
     "output_type": "stream",
     "text": [
      "<class 'str'> 2024\n"
     ]
    }
   ],
   "execution_count": 5
  },
  {
   "metadata": {
    "ExecuteTime": {
     "end_time": "2024-05-20T07:55:50.189835Z",
     "start_time": "2024-05-20T07:55:50.184699Z"
    }
   },
   "cell_type": "code",
   "source": [
    "year = int(year)\n",
    "print(type(year), year)"
   ],
   "id": "195552f904588d29",
   "outputs": [
    {
     "name": "stdout",
     "output_type": "stream",
     "text": [
      "<class 'int'> 2024\n"
     ]
    }
   ],
   "execution_count": 6
  },
  {
   "metadata": {
    "ExecuteTime": {
     "end_time": "2024-05-20T07:56:28.787446Z",
     "start_time": "2024-05-20T07:56:28.478200Z"
    }
   },
   "cell_type": "code",
   "source": [
    "name='noha'\n",
    "name = int(name)"
   ],
   "id": "95fd73a4e2537d9",
   "outputs": [
    {
     "ename": "ValueError",
     "evalue": "invalid literal for int() with base 10: 'noha'",
     "output_type": "error",
     "traceback": [
      "\u001B[0;31m---------------------------------------------------------------------------\u001B[0m",
      "\u001B[0;31mValueError\u001B[0m                                Traceback (most recent call last)",
      "Cell \u001B[0;32mIn[7], line 2\u001B[0m\n\u001B[1;32m      1\u001B[0m name\u001B[38;5;241m=\u001B[39m\u001B[38;5;124m'\u001B[39m\u001B[38;5;124mnoha\u001B[39m\u001B[38;5;124m'\u001B[39m\n\u001B[0;32m----> 2\u001B[0m name \u001B[38;5;241m=\u001B[39m \u001B[38;5;28;43mint\u001B[39;49m\u001B[43m(\u001B[49m\u001B[43mname\u001B[49m\u001B[43m)\u001B[49m\n",
      "\u001B[0;31mValueError\u001B[0m: invalid literal for int() with base 10: 'noha'"
     ]
    }
   ],
   "execution_count": 7
  },
  {
   "metadata": {
    "ExecuteTime": {
     "end_time": "2024-05-20T08:01:16.569816Z",
     "start_time": "2024-05-20T08:01:16.563935Z"
    }
   },
   "cell_type": "code",
   "source": [
    "grade= '44.44'\n",
    "grade = float(grade)\n",
    "print(grade, type(grade), grade)\n"
   ],
   "id": "c0a7ce66623393b2",
   "outputs": [
    {
     "name": "stdout",
     "output_type": "stream",
     "text": [
      "44.44 <class 'float'> 44.44\n"
     ]
    }
   ],
   "execution_count": 8
  },
  {
   "metadata": {},
   "cell_type": "markdown",
   "source": "Arthimetic operators ",
   "id": "340180dbd0619a42"
  },
  {
   "metadata": {
    "ExecuteTime": {
     "end_time": "2024-05-20T08:32:22.592294Z",
     "start_time": "2024-05-20T08:32:22.589101Z"
    }
   },
   "cell_type": "code",
   "source": "num1= 10",
   "id": "abf95046d8069fdd",
   "outputs": [],
   "execution_count": 9
  },
  {
   "metadata": {
    "ExecuteTime": {
     "end_time": "2024-05-20T08:32:35.823180Z",
     "start_time": "2024-05-20T08:32:35.819793Z"
    }
   },
   "cell_type": "code",
   "source": [
    "num2= 20\n",
    "res = num1 + num2\n",
    "print(res)"
   ],
   "id": "4125e7745bea50f4",
   "outputs": [
    {
     "name": "stdout",
     "output_type": "stream",
     "text": [
      "30\n"
     ]
    }
   ],
   "execution_count": 10
  },
  {
   "metadata": {
    "ExecuteTime": {
     "end_time": "2024-05-20T08:33:52.755625Z",
     "start_time": "2024-05-20T08:33:52.747314Z"
    }
   },
   "cell_type": "code",
   "source": [
    "num3 = 10//3  # integer result of the division\n",
    "print(num3)"
   ],
   "id": "ba335118e2a3e0df",
   "outputs": [
    {
     "name": "stdout",
     "output_type": "stream",
     "text": [
      "3\n"
     ]
    }
   ],
   "execution_count": 13
  },
  {
   "metadata": {
    "ExecuteTime": {
     "end_time": "2024-05-20T08:34:59.055771Z",
     "start_time": "2024-05-20T08:34:59.050821Z"
    }
   },
   "cell_type": "code",
   "source": [
    "print(10/3)  # 3.333333\n",
    "print(10%3) # 1 "
   ],
   "id": "5a4a306e00ed8f61",
   "outputs": [
    {
     "name": "stdout",
     "output_type": "stream",
     "text": [
      "3.3333333333333335\n",
      "1\n"
     ]
    }
   ],
   "execution_count": 15
  },
  {
   "metadata": {
    "ExecuteTime": {
     "end_time": "2024-05-20T08:33:24.812114Z",
     "start_time": "2024-05-20T08:33:24.807132Z"
    }
   },
   "cell_type": "code",
   "source": "year = 2024 # assign variable to a value",
   "id": "bab34b2ee7e5016f",
   "outputs": [],
   "execution_count": 11
  },
  {
   "metadata": {
    "ExecuteTime": {
     "end_time": "2024-05-20T08:37:57.485100Z",
     "start_time": "2024-05-20T08:37:57.479987Z"
    }
   },
   "cell_type": "code",
   "source": [
    "num =11 \n",
    "print(num)\n",
    "num +=10\n",
    "print(num)"
   ],
   "id": "2b2e942e9161609d",
   "outputs": [
    {
     "name": "stdout",
     "output_type": "stream",
     "text": [
      "11\n",
      "21\n"
     ]
    }
   ],
   "execution_count": 16
  },
  {
   "metadata": {
    "ExecuteTime": {
     "end_time": "2024-05-20T08:38:52.772476Z",
     "start_time": "2024-05-20T08:38:52.768638Z"
    }
   },
   "cell_type": "code",
   "source": [
    "num1=4\n",
    "num2=3\n",
    "res = num1 ** num2\n",
    "print(res)"
   ],
   "id": "98ea7487501fd871",
   "outputs": [
    {
     "name": "stdout",
     "output_type": "stream",
     "text": [
      "64\n"
     ]
    }
   ],
   "execution_count": 17
  },
  {
   "metadata": {
    "ExecuteTime": {
     "end_time": "2024-05-20T08:39:15.000712Z",
     "start_time": "2024-05-20T08:39:14.997215Z"
    }
   },
   "cell_type": "code",
   "source": "num1 **= 4",
   "id": "eb2a665aa7285ecf",
   "outputs": [],
   "execution_count": 18
  },
  {
   "metadata": {
    "ExecuteTime": {
     "end_time": "2024-05-20T08:39:20.924829Z",
     "start_time": "2024-05-20T08:39:20.921477Z"
    }
   },
   "cell_type": "code",
   "source": "print(num1)",
   "id": "b986f30b3ac254cd",
   "outputs": [
    {
     "name": "stdout",
     "output_type": "stream",
     "text": [
      "256\n"
     ]
    }
   ],
   "execution_count": 19
  },
  {
   "metadata": {
    "ExecuteTime": {
     "end_time": "2024-05-20T08:43:17.364332Z",
     "start_time": "2024-05-20T08:43:17.360646Z"
    }
   },
   "cell_type": "code",
   "source": [
    "name = 'ahmed'\n",
    "if name !='ahmed':\n",
    "    print(\"found\")"
   ],
   "id": "a8fc3479239e5730",
   "outputs": [],
   "execution_count": 20
  },
  {
   "metadata": {},
   "cell_type": "code",
   "outputs": [],
   "execution_count": null,
   "source": [
    "if not(name=='ahmed'):\n",
    "    print(\"--- not found\")"
   ],
   "id": "6aa104239b402a0b"
  },
  {
   "metadata": {
    "ExecuteTime": {
     "end_time": "2024-05-20T08:44:47.390752Z",
     "start_time": "2024-05-20T08:44:47.387293Z"
    }
   },
   "cell_type": "code",
   "source": [
    "grade =90\n",
    "course = 'python'\n",
    "\n",
    "if not(grade!=90 and course!='python'):\n",
    "    print(\"--failed\")"
   ],
   "id": "da13df506a2a5c63",
   "outputs": [
    {
     "name": "stdout",
     "output_type": "stream",
     "text": [
      "--failed\n"
     ]
    }
   ],
   "execution_count": 21
  },
  {
   "metadata": {
    "ExecuteTime": {
     "end_time": "2024-05-20T08:52:58.632415Z",
     "start_time": "2024-05-20T08:52:58.628269Z"
    }
   },
   "cell_type": "code",
   "source": [
    "res = 10 and 'iti'  # True \n",
    "print(res)\n",
    "\n",
    "print(10 and 'iti')"
   ],
   "id": "75b43778129e665c",
   "outputs": [
    {
     "name": "stdout",
     "output_type": "stream",
     "text": [
      "iti\n",
      "iti\n"
     ]
    }
   ],
   "execution_count": 22
  },
  {
   "metadata": {
    "ExecuteTime": {
     "end_time": "2024-05-20T08:54:56.796479Z",
     "start_time": "2024-05-20T08:54:56.792900Z"
    }
   },
   "cell_type": "code",
   "source": "print(bool(10))",
   "id": "673d312464a54fb3",
   "outputs": [
    {
     "name": "stdout",
     "output_type": "stream",
     "text": [
      "True\n"
     ]
    }
   ],
   "execution_count": 23
  },
  {
   "metadata": {
    "ExecuteTime": {
     "end_time": "2024-05-20T08:55:06.950546Z",
     "start_time": "2024-05-20T08:55:06.946345Z"
    }
   },
   "cell_type": "code",
   "source": "print(bool('iti'))",
   "id": "bc8b1e4a6fdb800d",
   "outputs": [
    {
     "name": "stdout",
     "output_type": "stream",
     "text": [
      "True\n"
     ]
    }
   ],
   "execution_count": 24
  },
  {
   "metadata": {
    "ExecuteTime": {
     "end_time": "2024-05-20T08:57:56.842078Z",
     "start_time": "2024-05-20T08:57:56.834248Z"
    }
   },
   "cell_type": "code",
   "source": [
    "\"\"\" and operator --> make sure that all the expression parts \n",
    "represent True \n",
    "10 and iti   ---> iti represent True\n",
    "\"\"\""
   ],
   "id": "b624459a95804ce1",
   "outputs": [
    {
     "data": {
      "text/plain": [
       "' and operator --> make sure that all the expression parts \\nrepresent True \\n10 and iti   ---> iti represent True\\n'"
      ]
     },
     "execution_count": 25,
     "metadata": {},
     "output_type": "execute_result"
    }
   ],
   "execution_count": 25
  },
  {
   "metadata": {
    "ExecuteTime": {
     "end_time": "2024-05-20T09:00:46.299771Z",
     "start_time": "2024-05-20T09:00:46.293017Z"
    }
   },
   "cell_type": "code",
   "source": "print(10 and 0 and 'iti')",
   "id": "2e1fa60e4fe72217",
   "outputs": [
    {
     "name": "stdout",
     "output_type": "stream",
     "text": [
      "0\n"
     ]
    }
   ],
   "execution_count": 26
  },
  {
   "metadata": {
    "ExecuteTime": {
     "end_time": "2024-05-20T09:06:11.592463Z",
     "start_time": "2024-05-20T09:06:11.588691Z"
    }
   },
   "cell_type": "code",
   "source": [
    "day = 'monday'\n",
    "if day=='sunday':\n",
    "    print(\"-- this is the beginning of the week\")\n",
    "elif day =='firday':\n",
    "    print(\"--End of the week\")\n",
    "else:\n",
    "    print(\"--it seems impossible until it is done\")"
   ],
   "id": "b86443e67a496858",
   "outputs": [
    {
     "name": "stdout",
     "output_type": "stream",
     "text": [
      "--it seems impossible until it is done\n"
     ]
    }
   ],
   "execution_count": 27
  },
  {
   "metadata": {},
   "cell_type": "code",
   "outputs": [],
   "execution_count": null,
   "source": "",
   "id": "bfaa252bd98648ec"
  }
 ],
 "metadata": {
  "kernelspec": {
   "display_name": "Python 3",
   "language": "python",
   "name": "python3"
  },
  "language_info": {
   "codemirror_mode": {
    "name": "ipython",
    "version": 2
   },
   "file_extension": ".py",
   "mimetype": "text/x-python",
   "name": "python",
   "nbconvert_exporter": "python",
   "pygments_lexer": "ipython2",
   "version": "2.7.6"
  }
 },
 "nbformat": 4,
 "nbformat_minor": 5
}
