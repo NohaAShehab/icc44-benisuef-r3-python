{
 "cells": [
  {
   "metadata": {},
   "cell_type": "raw",
   "source": [
    "functions :: \n",
    "    set of lines of code --> do certain task \n",
    "    --> wirte once use many "
   ],
   "id": "1f24613a4ae7143c"
  },
  {
   "cell_type": "code",
   "id": "initial_id",
   "metadata": {
    "collapsed": true,
    "ExecuteTime": {
     "end_time": "2024-05-22T08:05:23.741459Z",
     "start_time": "2024-05-22T08:05:23.731065Z"
    }
   },
   "source": "print(\"iti\") # print --> built in function --> output value to a stream\n",
   "outputs": [
    {
     "name": "stdout",
     "output_type": "stream",
     "text": [
      "iti\n"
     ]
    }
   ],
   "execution_count": 1
  },
  {
   "metadata": {
    "ExecuteTime": {
     "end_time": "2024-05-22T08:05:34.723749Z",
     "start_time": "2024-05-22T08:05:34.720039Z"
    }
   },
   "cell_type": "code",
   "source": [
    "myl= [3,4,5,6,7]\n",
    "print(myl)"
   ],
   "id": "a4ad49db9e868285",
   "outputs": [
    {
     "name": "stdout",
     "output_type": "stream",
     "text": [
      "[3, 4, 5, 6, 7]\n"
     ]
    }
   ],
   "execution_count": 2
  },
  {
   "metadata": {},
   "cell_type": "raw",
   "source": [
    "define our own functions\n",
    "===> write code once use it many time \n",
    "\n",
    "def functionname(parameters: optional):\n",
    "    do operation \n",
    "    return value/ set of values // don't return with anything"
   ],
   "id": "5a487bad161d4fd6"
  },
  {
   "metadata": {},
   "cell_type": "raw",
   "source": "Functions with known minimum , maximum of argument",
   "id": "9f701f3571d2a247"
  },
  {
   "metadata": {},
   "cell_type": "markdown",
   "source": "1- define basic empty function function ",
   "id": "25e76afe5b2bc690"
  },
  {
   "metadata": {
    "ExecuteTime": {
     "end_time": "2024-05-22T08:13:57.938687Z",
     "start_time": "2024-05-22T08:13:57.934665Z"
    }
   },
   "cell_type": "code",
   "source": [
    "def myfun():\n",
    "    pass \n",
    "# define function in the memory --> with name myfun \n",
    "# then I can use it many time "
   ],
   "id": "4e0018ad40b727d5",
   "outputs": [],
   "execution_count": 3
  },
  {
   "metadata": {},
   "cell_type": "markdown",
   "source": "call the function ?",
   "id": "df9d4564d8f79a60"
  },
  {
   "metadata": {
    "ExecuteTime": {
     "end_time": "2024-05-22T08:14:20.721212Z",
     "start_time": "2024-05-22T08:14:20.713654Z"
    }
   },
   "cell_type": "code",
   "source": "myfun()",
   "id": "76945403d231b055",
   "outputs": [],
   "execution_count": 4
  },
  {
   "metadata": {},
   "cell_type": "markdown",
   "source": "function that print helloworld",
   "id": "f23b775692b62321"
  },
  {
   "metadata": {
    "ExecuteTime": {
     "end_time": "2024-05-22T08:16:38.310790Z",
     "start_time": "2024-05-22T08:16:38.304194Z"
    }
   },
   "cell_type": "code",
   "source": [
    "def helloworld():\n",
    "    print(\"Hello World\")"
   ],
   "id": "efa64cc5740dec28",
   "outputs": [],
   "execution_count": 7
  },
  {
   "metadata": {
    "ExecuteTime": {
     "end_time": "2024-05-22T08:15:33.284139Z",
     "start_time": "2024-05-22T08:15:33.278803Z"
    }
   },
   "cell_type": "code",
   "source": [
    "helloworld()\n",
    "helloworld()\n",
    "helloworld()"
   ],
   "id": "b7c5f3b1edbce2bc",
   "outputs": [
    {
     "name": "stdout",
     "output_type": "stream",
     "text": [
      "Hello World\n",
      "Hello World\n",
      "Hello World\n"
     ]
    }
   ],
   "execution_count": 6
  },
  {
   "metadata": {},
   "cell_type": "markdown",
   "source": "define a function that asks user to enter his name then makesure that name doesn't contain whitespaces or number and print it ",
   "id": "d9790747dac4923c"
  },
  {
   "metadata": {},
   "cell_type": "raw",
   "source": "this function accept 0 arguments ",
   "id": "bc3db5ee7d6edcbf"
  },
  {
   "metadata": {
    "ExecuteTime": {
     "end_time": "2024-05-22T08:19:37.632687Z",
     "start_time": "2024-05-22T08:19:37.627946Z"
    }
   },
   "cell_type": "code",
   "source": [
    "def askforname():\n",
    "    username  = input(\"Enter your name: \")\n",
    "    if username.isalpha():\n",
    "        print(f'name= {username}')\n",
    "    else:\n",
    "        print(\"--not valid name \")"
   ],
   "id": "dbcb5fbd306b0142",
   "outputs": [],
   "execution_count": 11
  },
  {
   "metadata": {
    "ExecuteTime": {
     "end_time": "2024-05-22T08:19:40.609763Z",
     "start_time": "2024-05-22T08:19:39.198181Z"
    }
   },
   "cell_type": "code",
   "source": "askforname()",
   "id": "f0d57a8f5f64b374",
   "outputs": [
    {
     "name": "stdout",
     "output_type": "stream",
     "text": [
      "name= noha\n"
     ]
    }
   ],
   "execution_count": 12
  },
  {
   "metadata": {
    "ExecuteTime": {
     "end_time": "2024-05-22T08:19:43.033997Z",
     "start_time": "2024-05-22T08:19:41.973229Z"
    }
   },
   "cell_type": "code",
   "source": "askforname()",
   "id": "3e565ef77ae1178c",
   "outputs": [
    {
     "name": "stdout",
     "output_type": "stream",
     "text": [
      "--not valid name \n"
     ]
    }
   ],
   "execution_count": 13
  },
  {
   "metadata": {
    "ExecuteTime": {
     "end_time": "2024-05-22T08:29:16.448591Z",
     "start_time": "2024-05-22T08:29:16.247492Z"
    }
   },
   "cell_type": "code",
   "source": "askforname(\"iti\")",
   "id": "c02d7ef4a7aa20d1",
   "outputs": [
    {
     "ename": "TypeError",
     "evalue": "askforname() takes 0 positional arguments but 1 was given",
     "output_type": "error",
     "traceback": [
      "\u001B[0;31m---------------------------------------------------------------------------\u001B[0m",
      "\u001B[0;31mTypeError\u001B[0m                                 Traceback (most recent call last)",
      "Cell \u001B[0;32mIn[14], line 1\u001B[0m\n\u001B[0;32m----> 1\u001B[0m \u001B[43maskforname\u001B[49m\u001B[43m(\u001B[49m\u001B[38;5;124;43m\"\u001B[39;49m\u001B[38;5;124;43miti\u001B[39;49m\u001B[38;5;124;43m\"\u001B[39;49m\u001B[43m)\u001B[49m\n",
      "\u001B[0;31mTypeError\u001B[0m: askforname() takes 0 positional arguments but 1 was given"
     ]
    }
   ],
   "execution_count": 14
  },
  {
   "metadata": {
    "ExecuteTime": {
     "end_time": "2024-05-22T08:29:57.572659Z",
     "start_time": "2024-05-22T08:29:54.166836Z"
    }
   },
   "cell_type": "code",
   "source": [
    "res = askforname()\n",
    "print(f'res = {res}')"
   ],
   "id": "b083526339759486",
   "outputs": [
    {
     "name": "stdout",
     "output_type": "stream",
     "text": [
      "name= ahmed\n",
      "res = None\n"
     ]
    }
   ],
   "execution_count": 15
  },
  {
   "metadata": {
    "ExecuteTime": {
     "end_time": "2024-05-22T08:30:43.339009Z",
     "start_time": "2024-05-22T08:30:43.335639Z"
    }
   },
   "cell_type": "code",
   "source": [
    "def askforname():\n",
    "    username  = input(\"Enter your name: \")\n",
    "    if username.isalpha():\n",
    "        print(f'name= {username}')\n",
    "    else:\n",
    "        print(\"--not valid name \")\n",
    "        \n",
    "    return   # this function return with None"
   ],
   "id": "b0870c2b7635d8b7",
   "outputs": [],
   "execution_count": 16
  },
  {
   "metadata": {
    "ExecuteTime": {
     "end_time": "2024-05-22T08:30:48.601698Z",
     "start_time": "2024-05-22T08:30:47.064439Z"
    }
   },
   "cell_type": "code",
   "source": "print(askforname())",
   "id": "f5e7bdaf1d475a04",
   "outputs": [
    {
     "name": "stdout",
     "output_type": "stream",
     "text": [
      "name= jjj\n",
      "None\n"
     ]
    }
   ],
   "execution_count": 17
  },
  {
   "metadata": {},
   "cell_type": "raw",
   "source": "function that returns with value ",
   "id": "7c47bc2e4a4cec7"
  },
  {
   "metadata": {
    "ExecuteTime": {
     "end_time": "2024-05-22T08:31:40.682496Z",
     "start_time": "2024-05-22T08:31:40.679252Z"
    }
   },
   "cell_type": "code",
   "source": [
    "def askforuppername():\n",
    "    username  = input(\"Enter your name: \")        \n",
    "    return  username.upper()"
   ],
   "id": "d28af3973814aa30",
   "outputs": [],
   "execution_count": 18
  },
  {
   "metadata": {
    "ExecuteTime": {
     "end_time": "2024-05-22T08:33:02.333360Z",
     "start_time": "2024-05-22T08:32:57.417433Z"
    }
   },
   "cell_type": "code",
   "source": [
    "res=askforuppername()\n",
    "print(f\"name= {res}\")"
   ],
   "id": "9c26450f63148fd2",
   "outputs": [
    {
     "name": "stdout",
     "output_type": "stream",
     "text": [
      "name= NOHA\n"
     ]
    }
   ],
   "execution_count": 20
  },
  {
   "metadata": {
    "ExecuteTime": {
     "end_time": "2024-05-22T08:33:55.929159Z",
     "start_time": "2024-05-22T08:33:52.684042Z"
    }
   },
   "cell_type": "code",
   "source": [
    "def askforuppername():\n",
    "    username  = input(\"Enter your name: \")        \n",
    "    print(  username.upper())\n",
    "\n",
    "res = askforuppername()\n",
    "print(f\"name= {res}\")"
   ],
   "id": "e585bff094a87bb2",
   "outputs": [
    {
     "name": "stdout",
     "output_type": "stream",
     "text": [
      "NOHA\n",
      "name= None\n"
     ]
    }
   ],
   "execution_count": 21
  },
  {
   "metadata": {},
   "cell_type": "markdown",
   "source": "function return with more than one value ",
   "id": "f541ed2e87638ee3"
  },
  {
   "metadata": {
    "ExecuteTime": {
     "end_time": "2024-05-22T08:36:46.325631Z",
     "start_time": "2024-05-22T08:36:46.322352Z"
    }
   },
   "cell_type": "code",
   "source": [
    "def get_fullname():\n",
    "    fname = input(\"Enter your name: \")\n",
    "    lname = input(\"Enter your last name: \")\n",
    "    fullname = f'{fname} {lname}'\n",
    "    return fname, lname, fullname  # implicitly --> tuple"
   ],
   "id": "281f6c5a5f676d36",
   "outputs": [],
   "execution_count": 22
  },
  {
   "metadata": {
    "ExecuteTime": {
     "end_time": "2024-05-22T08:37:28.083025Z",
     "start_time": "2024-05-22T08:37:23.550337Z"
    }
   },
   "cell_type": "code",
   "source": [
    "name_parts = get_fullname()\n",
    "print(name_parts)  # tuple "
   ],
   "id": "4bfb64869497bb86",
   "outputs": [
    {
     "name": "stdout",
     "output_type": "stream",
     "text": [
      "('noha', 'shehab', 'noha shehab')\n"
     ]
    }
   ],
   "execution_count": 24
  },
  {
   "metadata": {
    "ExecuteTime": {
     "end_time": "2024-05-22T08:38:34.600113Z",
     "start_time": "2024-05-22T08:38:32.067111Z"
    }
   },
   "cell_type": "code",
   "source": [
    "def get_fullname():\n",
    "    fname = input(\"Enter your name: \")\n",
    "    lname = input(\"Enter your last name: \")\n",
    "    fullname = f'{fname} {lname}'\n",
    "    return {\n",
    "        'fname': fname,\n",
    "        'lname': lname,\n",
    "        'fullname': fullname\n",
    "    }\n",
    "\n",
    "name_parts = get_fullname()\n",
    "print(name_parts)"
   ],
   "id": "9e2d2dbce13399b9",
   "outputs": [
    {
     "name": "stdout",
     "output_type": "stream",
     "text": [
      "{'fname': 'noha', 'lname': 'shehab', 'fullname': 'noha shehab'}\n"
     ]
    }
   ],
   "execution_count": 25
  },
  {
   "metadata": {},
   "cell_type": "raw",
   "source": "function accept arguments  (mandatory arguments)",
   "id": "2807aad96f5aa9c5"
  },
  {
   "metadata": {
    "ExecuteTime": {
     "end_time": "2024-05-22T08:40:22.006545Z",
     "start_time": "2024-05-22T08:40:22.003322Z"
    }
   },
   "cell_type": "code",
   "source": [
    "def sumnum(num1,num2):\n",
    "    res = num1 + num2\n",
    "    print(f\"{num1} + {num2} = {res}\")\n",
    "    return res\n"
   ],
   "id": "2abad273b16f192e",
   "outputs": [],
   "execution_count": 26
  },
  {
   "metadata": {
    "ExecuteTime": {
     "end_time": "2024-05-22T08:40:28.595458Z",
     "start_time": "2024-05-22T08:40:28.580139Z"
    }
   },
   "cell_type": "code",
   "source": "sumnum(4,5)",
   "id": "57247f9db85d7e20",
   "outputs": [
    {
     "name": "stdout",
     "output_type": "stream",
     "text": [
      "4 + 5 = 9\n"
     ]
    },
    {
     "data": {
      "text/plain": [
       "9"
      ]
     },
     "execution_count": 27,
     "metadata": {},
     "output_type": "execute_result"
    }
   ],
   "execution_count": 27
  },
  {
   "metadata": {
    "ExecuteTime": {
     "end_time": "2024-05-22T08:40:55.106365Z",
     "start_time": "2024-05-22T08:40:55.101802Z"
    }
   },
   "cell_type": "code",
   "source": [
    "sumres = sumnum(405,455)\n",
    "print(sumres)"
   ],
   "id": "365fffeade3eb32d",
   "outputs": [
    {
     "name": "stdout",
     "output_type": "stream",
     "text": [
      "405 + 455 = 860\n",
      "860\n"
     ]
    }
   ],
   "execution_count": 28
  },
  {
   "metadata": {
    "ExecuteTime": {
     "end_time": "2024-05-22T08:41:13.430600Z",
     "start_time": "2024-05-22T08:41:13.408828Z"
    }
   },
   "cell_type": "code",
   "source": "x  = sumnum(3)",
   "id": "7adc95baafc5372",
   "outputs": [
    {
     "ename": "TypeError",
     "evalue": "sumnum() missing 1 required positional argument: 'num2'",
     "output_type": "error",
     "traceback": [
      "\u001B[0;31m---------------------------------------------------------------------------\u001B[0m",
      "\u001B[0;31mTypeError\u001B[0m                                 Traceback (most recent call last)",
      "Cell \u001B[0;32mIn[29], line 1\u001B[0m\n\u001B[0;32m----> 1\u001B[0m x  \u001B[38;5;241m=\u001B[39m \u001B[43msumnum\u001B[49m\u001B[43m(\u001B[49m\u001B[38;5;241;43m3\u001B[39;49m\u001B[43m)\u001B[49m\n",
      "\u001B[0;31mTypeError\u001B[0m: sumnum() missing 1 required positional argument: 'num2'"
     ]
    }
   ],
   "execution_count": 29
  },
  {
   "metadata": {
    "ExecuteTime": {
     "end_time": "2024-05-22T08:44:17.293887Z",
     "start_time": "2024-05-22T08:44:11.287971Z"
    }
   },
   "cell_type": "code",
   "source": [
    "def askfor_info(name, age):\n",
    "    print(f\"name={name}, age= {age}\")\n",
    "    \n",
    "askfor_info(input(\"please enter name\"), input(\"please enter age\"))\n"
   ],
   "id": "538e6cf6656b8abf",
   "outputs": [
    {
     "name": "stdout",
     "output_type": "stream",
     "text": [
      "name=noha, age= 31\n"
     ]
    }
   ],
   "execution_count": 31
  },
  {
   "metadata": {
    "ExecuteTime": {
     "end_time": "2024-05-22T08:44:56.010936Z",
     "start_time": "2024-05-22T08:44:53.541966Z"
    }
   },
   "cell_type": "code",
   "source": [
    "def askfor_info(name, age):\n",
    "    print(f\"name={name}, age= {age}\")\n",
    "  \n",
    "### this part to call the function  \n",
    "name = input(\"please enter name\")\n",
    "age=  input(\"please enter age\")\n",
    "    \n",
    "askfor_info(name,age )\n"
   ],
   "id": "f7f7372b932cf9e2",
   "outputs": [
    {
     "name": "stdout",
     "output_type": "stream",
     "text": [
      "name=rrr, age= 444\n"
     ]
    }
   ],
   "execution_count": 32
  },
  {
   "metadata": {
    "ExecuteTime": {
     "end_time": "2024-05-22T08:46:38.818358Z",
     "start_time": "2024-05-22T08:46:38.813966Z"
    }
   },
   "cell_type": "code",
   "source": "askfor_info('ffff',434534534)",
   "id": "3f87eb39f8741a28",
   "outputs": [
    {
     "name": "stdout",
     "output_type": "stream",
     "text": [
      "name=ffff, age= 434534534\n"
     ]
    }
   ],
   "execution_count": 33
  },
  {
   "metadata": {},
   "cell_type": "code",
   "outputs": [],
   "execution_count": null,
   "source": "",
   "id": "abbb38ff2093005b"
  },
  {
   "metadata": {},
   "cell_type": "markdown",
   "source": "define the function",
   "id": "d8ac6ae12d05b18b"
  },
  {
   "metadata": {
    "ExecuteTime": {
     "end_time": "2024-05-22T08:58:15.140011Z",
     "start_time": "2024-05-22T08:58:15.136998Z"
    }
   },
   "cell_type": "code",
   "source": [
    "def myfunction(firtname, lastname): # firstname, lastname (arguments)\n",
    "    fullname = f\"{firtname} {lastname}\"\n",
    "    return fullname"
   ],
   "id": "89aa538bca865ae6",
   "outputs": [],
   "execution_count": 34
  },
  {
   "metadata": {},
   "cell_type": "markdown",
   "source": "call the function",
   "id": "b2ecd8225739d26b"
  },
  {
   "metadata": {
    "ExecuteTime": {
     "end_time": "2024-05-22T08:58:40.370017Z",
     "start_time": "2024-05-22T08:58:40.366219Z"
    }
   },
   "cell_type": "code",
   "source": [
    "res= myfunction(\"test\", \"test\")\n",
    "print(res)"
   ],
   "id": "1b5e3a8cdc8975ed",
   "outputs": [
    {
     "name": "stdout",
     "output_type": "stream",
     "text": [
      "test test\n"
     ]
    }
   ],
   "execution_count": 35
  },
  {
   "metadata": {
    "ExecuteTime": {
     "end_time": "2024-05-22T08:59:26.187973Z",
     "start_time": "2024-05-22T08:59:23.482398Z"
    }
   },
   "cell_type": "code",
   "source": [
    "fname = input(\"Enter your first name: \")\n",
    "lname = input(\"Enter your last name: \")\n",
    "fullname = myfunction(fname, lname)\n",
    "print(fullname)"
   ],
   "id": "c3f01799f0981776",
   "outputs": [
    {
     "name": "stdout",
     "output_type": "stream",
     "text": [
      "rr rr\n"
     ]
    }
   ],
   "execution_count": 36
  },
  {
   "metadata": {},
   "cell_type": "raw",
   "source": "Functions with optional number of arguments ",
   "id": "54e4088ebe2a6a0f"
  },
  {
   "metadata": {
    "ExecuteTime": {
     "end_time": "2024-05-22T09:01:11.262445Z",
     "start_time": "2024-05-22T09:01:11.255313Z"
    }
   },
   "cell_type": "code",
   "source": [
    "print(\"name\")\n",
    "print(\"python\", end='#')\n",
    "print(\"age\")"
   ],
   "id": "9d79d5b6b3531a74",
   "outputs": [
    {
     "name": "stdout",
     "output_type": "stream",
     "text": [
      "name\n",
      "python#age\n"
     ]
    }
   ],
   "execution_count": 38
  },
  {
   "metadata": {},
   "cell_type": "raw",
   "source": "how to implement this in my function",
   "id": "e9854fcc1be1a725"
  },
  {
   "metadata": {
    "ExecuteTime": {
     "end_time": "2024-05-22T09:02:47.639811Z",
     "start_time": "2024-05-22T09:02:47.625783Z"
    }
   },
   "cell_type": "code",
   "source": [
    "def sumnum(num1,num2=10):\n",
    "    print(f\"num1= {num1}, num2= {num2}\")\n",
    "    res = num1 + num2\n",
    "    print(res)\n",
    "    \n",
    "sumnum(4,5)"
   ],
   "id": "6eee74bfac370bb2",
   "outputs": [
    {
     "name": "stdout",
     "output_type": "stream",
     "text": [
      "num1= 4, num2= 5\n",
      "9\n"
     ]
    }
   ],
   "execution_count": 41
  },
  {
   "metadata": {
    "ExecuteTime": {
     "end_time": "2024-05-22T09:02:53.434443Z",
     "start_time": "2024-05-22T09:02:53.431282Z"
    }
   },
   "cell_type": "code",
   "source": "sumnum(3)",
   "id": "17933fe9312e0a30",
   "outputs": [
    {
     "name": "stdout",
     "output_type": "stream",
     "text": [
      "num1= 3, num2= 10\n",
      "13\n"
     ]
    }
   ],
   "execution_count": 42
  },
  {
   "metadata": {
    "ExecuteTime": {
     "end_time": "2024-05-22T09:03:58.302857Z",
     "start_time": "2024-05-22T09:03:58.299097Z"
    }
   },
   "cell_type": "code",
   "source": [
    "def mulnums(num1=10, num2=10):\n",
    "    print(f\"num1= {num1}, num2= {num2}\")\n",
    "    res = num1 * num2\n",
    "    print(f'res= {res}')\n",
    "    "
   ],
   "id": "cd9194cc101d5a8d",
   "outputs": [],
   "execution_count": 43
  },
  {
   "metadata": {
    "ExecuteTime": {
     "end_time": "2024-05-22T09:04:04.980459Z",
     "start_time": "2024-05-22T09:04:04.976053Z"
    }
   },
   "cell_type": "code",
   "source": "mulnums()",
   "id": "c6902668a3ecc93c",
   "outputs": [
    {
     "name": "stdout",
     "output_type": "stream",
     "text": [
      "num1= 10, num2= 10\n",
      "res= 100\n"
     ]
    }
   ],
   "execution_count": 44
  },
  {
   "metadata": {
    "ExecuteTime": {
     "end_time": "2024-05-22T09:04:19.892326Z",
     "start_time": "2024-05-22T09:04:19.888301Z"
    }
   },
   "cell_type": "code",
   "source": "mulnums(4)",
   "id": "b857d6ee6645c1bf",
   "outputs": [
    {
     "name": "stdout",
     "output_type": "stream",
     "text": [
      "num1= 4, num2= 10\n",
      "res= 40\n"
     ]
    }
   ],
   "execution_count": 45
  },
  {
   "metadata": {
    "ExecuteTime": {
     "end_time": "2024-05-22T09:04:29.982278Z",
     "start_time": "2024-05-22T09:04:29.974055Z"
    }
   },
   "cell_type": "code",
   "source": "mulnums(3,5)",
   "id": "22fa10c7534b60fe",
   "outputs": [
    {
     "name": "stdout",
     "output_type": "stream",
     "text": [
      "num1= 3, num2= 5\n",
      "res= 15\n"
     ]
    }
   ],
   "execution_count": 46
  },
  {
   "metadata": {},
   "cell_type": "raw",
   "source": "Functions with unknown number of arguments ",
   "id": "ddc3c7dbcdd2851d"
  },
  {
   "metadata": {
    "ExecuteTime": {
     "end_time": "2024-05-22T09:06:42.391622Z",
     "start_time": "2024-05-22T09:06:42.387958Z"
    }
   },
   "cell_type": "code",
   "source": "print(10 , \"iti\", True, 5435, 2344)",
   "id": "7585213bd761ae8f",
   "outputs": [
    {
     "name": "stdout",
     "output_type": "stream",
     "text": [
      "10 iti True 5435 2344\n"
     ]
    }
   ],
   "execution_count": 47
  },
  {
   "metadata": {
    "ExecuteTime": {
     "end_time": "2024-05-22T09:07:11.471323Z",
     "start_time": "2024-05-22T09:07:11.468568Z"
    }
   },
   "cell_type": "code",
   "source": [
    "def ask_for_students(students):\n",
    "    print(f'students= {students}')"
   ],
   "id": "aeeb36bd6dab3bf3",
   "outputs": [],
   "execution_count": 48
  },
  {
   "metadata": {
    "ExecuteTime": {
     "end_time": "2024-05-22T09:07:18.984623Z",
     "start_time": "2024-05-22T09:07:18.980962Z"
    }
   },
   "cell_type": "code",
   "source": "ask_for_students(\"444\")",
   "id": "d2a517b40043007e",
   "outputs": [
    {
     "name": "stdout",
     "output_type": "stream",
     "text": [
      "students= 444\n"
     ]
    }
   ],
   "execution_count": 49
  },
  {
   "metadata": {
    "ExecuteTime": {
     "end_time": "2024-05-22T09:07:24.428667Z",
     "start_time": "2024-05-22T09:07:24.411835Z"
    }
   },
   "cell_type": "code",
   "source": "ask_for_students()",
   "id": "b48df649819e6e88",
   "outputs": [
    {
     "ename": "TypeError",
     "evalue": "ask_for_students() missing 1 required positional argument: 'students'",
     "output_type": "error",
     "traceback": [
      "\u001B[0;31m---------------------------------------------------------------------------\u001B[0m",
      "\u001B[0;31mTypeError\u001B[0m                                 Traceback (most recent call last)",
      "Cell \u001B[0;32mIn[50], line 1\u001B[0m\n\u001B[0;32m----> 1\u001B[0m \u001B[43mask_for_students\u001B[49m\u001B[43m(\u001B[49m\u001B[43m)\u001B[49m\n",
      "\u001B[0;31mTypeError\u001B[0m: ask_for_students() missing 1 required positional argument: 'students'"
     ]
    }
   ],
   "execution_count": 50
  },
  {
   "metadata": {
    "ExecuteTime": {
     "end_time": "2024-05-22T09:07:39.471501Z",
     "start_time": "2024-05-22T09:07:39.458559Z"
    }
   },
   "cell_type": "code",
   "source": "ask_for_students('rer', 'err','erer')",
   "id": "2e96692f08b1d2ed",
   "outputs": [
    {
     "ename": "TypeError",
     "evalue": "ask_for_students() takes 1 positional argument but 3 were given",
     "output_type": "error",
     "traceback": [
      "\u001B[0;31m---------------------------------------------------------------------------\u001B[0m",
      "\u001B[0;31mTypeError\u001B[0m                                 Traceback (most recent call last)",
      "Cell \u001B[0;32mIn[51], line 1\u001B[0m\n\u001B[0;32m----> 1\u001B[0m \u001B[43mask_for_students\u001B[49m\u001B[43m(\u001B[49m\u001B[38;5;124;43m'\u001B[39;49m\u001B[38;5;124;43mrer\u001B[39;49m\u001B[38;5;124;43m'\u001B[39;49m\u001B[43m,\u001B[49m\u001B[43m \u001B[49m\u001B[38;5;124;43m'\u001B[39;49m\u001B[38;5;124;43merr\u001B[39;49m\u001B[38;5;124;43m'\u001B[39;49m\u001B[43m,\u001B[49m\u001B[38;5;124;43m'\u001B[39;49m\u001B[38;5;124;43merer\u001B[39;49m\u001B[38;5;124;43m'\u001B[39;49m\u001B[43m)\u001B[49m\n",
      "\u001B[0;31mTypeError\u001B[0m: ask_for_students() takes 1 positional argument but 3 were given"
     ]
    }
   ],
   "execution_count": 51
  },
  {
   "metadata": {
    "ExecuteTime": {
     "end_time": "2024-05-22T09:08:13.794763Z",
     "start_time": "2024-05-22T09:08:13.790421Z"
    }
   },
   "cell_type": "code",
   "source": [
    "def ask_for_students(*students):  # * --> represent zero or more\n",
    "    print(f'students= {students}') # accept values and save it in a tuple"
   ],
   "id": "9416a4ec695f2298",
   "outputs": [],
   "execution_count": 52
  },
  {
   "metadata": {
    "ExecuteTime": {
     "end_time": "2024-05-22T09:08:29.990376Z",
     "start_time": "2024-05-22T09:08:29.987182Z"
    }
   },
   "cell_type": "code",
   "source": "ask_for_students()",
   "id": "15ac1185ef41d7ec",
   "outputs": [
    {
     "name": "stdout",
     "output_type": "stream",
     "text": [
      "students= ()\n"
     ]
    }
   ],
   "execution_count": 53
  },
  {
   "metadata": {
    "ExecuteTime": {
     "end_time": "2024-05-22T09:08:48.401671Z",
     "start_time": "2024-05-22T09:08:48.396907Z"
    }
   },
   "cell_type": "code",
   "source": "ask_for_students(44,54,55)",
   "id": "f1515db0201aaac6",
   "outputs": [
    {
     "name": "stdout",
     "output_type": "stream",
     "text": [
      "students= (44, 54, 55)\n"
     ]
    }
   ],
   "execution_count": 54
  },
  {
   "metadata": {
    "ExecuteTime": {
     "end_time": "2024-05-22T09:08:55.816929Z",
     "start_time": "2024-05-22T09:08:55.812821Z"
    }
   },
   "cell_type": "code",
   "source": "ask_for_students('fdfsdf')",
   "id": "6fdaf482548c957b",
   "outputs": [
    {
     "name": "stdout",
     "output_type": "stream",
     "text": [
      "students= ('fdfsdf',)\n"
     ]
    }
   ],
   "execution_count": 55
  },
  {
   "metadata": {
    "ExecuteTime": {
     "end_time": "2024-05-22T09:09:09.587643Z",
     "start_time": "2024-05-22T09:09:09.580828Z"
    }
   },
   "cell_type": "code",
   "source": "ask_for_students(3,435,'244', 124,4234,321,424,435)",
   "id": "ca7d4bd14c944988",
   "outputs": [
    {
     "name": "stdout",
     "output_type": "stream",
     "text": [
      "students= (3, 435, '244', 124, 4234, 321, 424, 435)\n"
     ]
    }
   ],
   "execution_count": 56
  },
  {
   "metadata": {},
   "cell_type": "code",
   "outputs": [],
   "execution_count": null,
   "source": "",
   "id": "e23b022f6680efa2"
  },
  {
   "metadata": {},
   "cell_type": "markdown",
   "source": "check this example",
   "id": "bedd32727f791463"
  },
  {
   "metadata": {
    "ExecuteTime": {
     "end_time": "2024-05-22T09:13:50.538095Z",
     "start_time": "2024-05-22T09:13:50.533957Z"
    }
   },
   "cell_type": "code",
   "source": [
    "temp = 'My name is {anyname}, I works at {anywork}'\n",
    "print(temp)"
   ],
   "id": "e91043d9f4bf9447",
   "outputs": [
    {
     "name": "stdout",
     "output_type": "stream",
     "text": [
      "My name is {anyname}, I works at {anywork}\n"
     ]
    }
   ],
   "execution_count": 57
  },
  {
   "metadata": {},
   "cell_type": "markdown",
   "source": "format temp --> anyname, anywork",
   "id": "b40c2018e6ae9315"
  },
  {
   "metadata": {
    "ExecuteTime": {
     "end_time": "2024-05-22T09:14:36.392141Z",
     "start_time": "2024-05-22T09:14:36.388797Z"
    }
   },
   "cell_type": "code",
   "source": "print(temp.format(anywork='iti', anyname='abc'))",
   "id": "83e4cc4f9d6954e7",
   "outputs": [
    {
     "name": "stdout",
     "output_type": "stream",
     "text": [
      "My name is abc, I works at iti\n"
     ]
    }
   ],
   "execution_count": 58
  },
  {
   "metadata": {
    "ExecuteTime": {
     "end_time": "2024-05-22T09:17:00.431105Z",
     "start_time": "2024-05-22T09:17:00.428347Z"
    }
   },
   "cell_type": "code",
   "source": [
    "def intoduceyourself(info):\n",
    "    print(info)"
   ],
   "id": "4f31f4d2317d040e",
   "outputs": [],
   "execution_count": 59
  },
  {
   "metadata": {
    "ExecuteTime": {
     "end_time": "2024-05-22T09:17:07.930096Z",
     "start_time": "2024-05-22T09:17:07.876537Z"
    }
   },
   "cell_type": "code",
   "source": "intoduceyourself(name='ahmed')",
   "id": "12fd9436d694f3eb",
   "outputs": [
    {
     "ename": "TypeError",
     "evalue": "intoduceyourself() got an unexpected keyword argument 'name'",
     "output_type": "error",
     "traceback": [
      "\u001B[0;31m---------------------------------------------------------------------------\u001B[0m",
      "\u001B[0;31mTypeError\u001B[0m                                 Traceback (most recent call last)",
      "Cell \u001B[0;32mIn[60], line 1\u001B[0m\n\u001B[0;32m----> 1\u001B[0m \u001B[43mintoduceyourself\u001B[49m\u001B[43m(\u001B[49m\u001B[43mname\u001B[49m\u001B[38;5;241;43m=\u001B[39;49m\u001B[38;5;124;43m'\u001B[39;49m\u001B[38;5;124;43mahmed\u001B[39;49m\u001B[38;5;124;43m'\u001B[39;49m\u001B[43m)\u001B[49m\n",
      "\u001B[0;31mTypeError\u001B[0m: intoduceyourself() got an unexpected keyword argument 'name'"
     ]
    }
   ],
   "execution_count": 60
  },
  {
   "metadata": {
    "ExecuteTime": {
     "end_time": "2024-05-22T09:17:26.127507Z",
     "start_time": "2024-05-22T09:17:26.114240Z"
    }
   },
   "cell_type": "code",
   "source": "intoduceyourself(fname='ali', age=30)",
   "id": "7970cb56f34ac72e",
   "outputs": [
    {
     "ename": "TypeError",
     "evalue": "intoduceyourself() got an unexpected keyword argument 'fname'",
     "output_type": "error",
     "traceback": [
      "\u001B[0;31m---------------------------------------------------------------------------\u001B[0m",
      "\u001B[0;31mTypeError\u001B[0m                                 Traceback (most recent call last)",
      "Cell \u001B[0;32mIn[61], line 1\u001B[0m\n\u001B[0;32m----> 1\u001B[0m \u001B[43mintoduceyourself\u001B[49m\u001B[43m(\u001B[49m\u001B[43mfname\u001B[49m\u001B[38;5;241;43m=\u001B[39;49m\u001B[38;5;124;43m'\u001B[39;49m\u001B[38;5;124;43mali\u001B[39;49m\u001B[38;5;124;43m'\u001B[39;49m\u001B[43m,\u001B[49m\u001B[43m \u001B[49m\u001B[43mage\u001B[49m\u001B[38;5;241;43m=\u001B[39;49m\u001B[38;5;241;43m30\u001B[39;49m\u001B[43m)\u001B[49m\n",
      "\u001B[0;31mTypeError\u001B[0m: intoduceyourself() got an unexpected keyword argument 'fname'"
     ]
    }
   ],
   "execution_count": 61
  },
  {
   "metadata": {},
   "cell_type": "markdown",
   "source": "define function accept variable number of keyword argument ",
   "id": "91f8c97ef598989a"
  },
  {
   "metadata": {
    "ExecuteTime": {
     "end_time": "2024-05-22T09:18:51.951810Z",
     "start_time": "2024-05-22T09:18:51.948628Z"
    }
   },
   "cell_type": "code",
   "source": [
    "def intoduceyourself(**info):  # unknown number of keyword argument key=value\n",
    "    print(info)  # saved in dict -->  {key:value, }"
   ],
   "id": "6e300d4098a4fbf9",
   "outputs": [],
   "execution_count": 62
  },
  {
   "metadata": {
    "ExecuteTime": {
     "end_time": "2024-05-22T09:18:56.545483Z",
     "start_time": "2024-05-22T09:18:56.541322Z"
    }
   },
   "cell_type": "code",
   "source": "intoduceyourself()",
   "id": "4d5843d862c021f8",
   "outputs": [
    {
     "name": "stdout",
     "output_type": "stream",
     "text": [
      "{}\n"
     ]
    }
   ],
   "execution_count": 63
  },
  {
   "metadata": {
    "ExecuteTime": {
     "end_time": "2024-05-22T09:19:04.694942Z",
     "start_time": "2024-05-22T09:19:04.691409Z"
    }
   },
   "cell_type": "code",
   "source": "intoduceyourself(name='ahmed')",
   "id": "88719e498bbb9568",
   "outputs": [
    {
     "name": "stdout",
     "output_type": "stream",
     "text": [
      "{'name': 'ahmed'}\n"
     ]
    }
   ],
   "execution_count": 64
  },
  {
   "metadata": {
    "ExecuteTime": {
     "end_time": "2024-05-22T09:19:19.420146Z",
     "start_time": "2024-05-22T09:19:19.416655Z"
    }
   },
   "cell_type": "code",
   "source": "intoduceyourself(age=30, fname='ahmed', city='cairo')",
   "id": "5fb2138085bb6d80",
   "outputs": [
    {
     "name": "stdout",
     "output_type": "stream",
     "text": [
      "{'age': 30, 'fname': 'ahmed', 'city': 'cairo'}\n"
     ]
    }
   ],
   "execution_count": 65
  },
  {
   "metadata": {},
   "cell_type": "code",
   "outputs": [],
   "execution_count": null,
   "source": "",
   "id": "6dd6f75999d30979"
  },
  {
   "metadata": {},
   "cell_type": "raw",
   "source": [
    "myfun(3,10)\n",
    "return [10 ,11, 12]\n",
    "---------------------------------\n",
    "abcfun(44)\n",
    "\n",
    "----\n",
    "python =---> nohtyp\n",
    "-------\n",
    "abdulrahmanxyz\n",
    "abdu\n",
    "lr\n",
    "ahm\n",
    "anxyz\n"
   ],
   "id": "ab0d26f5dddd31fc"
  }
 ],
 "metadata": {
  "kernelspec": {
   "display_name": "Python 3",
   "language": "python",
   "name": "python3"
  },
  "language_info": {
   "codemirror_mode": {
    "name": "ipython",
    "version": 2
   },
   "file_extension": ".py",
   "mimetype": "text/x-python",
   "name": "python",
   "nbconvert_exporter": "python",
   "pygments_lexer": "ipython2",
   "version": "2.7.6"
  }
 },
 "nbformat": 4,
 "nbformat_minor": 5
}
