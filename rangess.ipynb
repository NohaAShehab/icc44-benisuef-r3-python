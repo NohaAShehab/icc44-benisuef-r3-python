{
 "cells": [
  {
   "metadata": {},
   "cell_type": "markdown",
   "source": "generate list of numbers 1 to 10 ?",
   "id": "c85582fe97b31fd0"
  },
  {
   "cell_type": "code",
   "id": "initial_id",
   "metadata": {
    "collapsed": true,
    "ExecuteTime": {
     "end_time": "2024-05-21T08:58:45.726730Z",
     "start_time": "2024-05-21T08:58:45.719445Z"
    }
   },
   "source": [
    "l = [1,2,3,4,5]\n",
    "print(l)"
   ],
   "outputs": [
    {
     "name": "stdout",
     "output_type": "stream",
     "text": [
      "[1, 2, 3, 4, 5]\n"
     ]
    }
   ],
   "execution_count": 2
  },
  {
   "metadata": {},
   "cell_type": "markdown",
   "source": [
    "while loop\n",
    "\n",
    "while condition:\n",
    "    do something "
   ],
   "id": "9daad1493702377"
  },
  {
   "metadata": {
    "ExecuteTime": {
     "end_time": "2024-05-21T08:59:42.615116Z",
     "start_time": "2024-05-21T08:59:42.611059Z"
    }
   },
   "cell_type": "code",
   "source": [
    "counter = 0\n",
    "l = []\n",
    "while counter < 11:\n",
    "    l.append(counter)\n",
    "    counter += 1\n",
    "    \n",
    "print(l)"
   ],
   "id": "c397cddf000b03d2",
   "outputs": [
    {
     "name": "stdout",
     "output_type": "stream",
     "text": [
      "[0, 1, 2, 3, 4, 5, 6, 7, 8, 9, 10]\n"
     ]
    }
   ],
   "execution_count": 3
  },
  {
   "metadata": {},
   "cell_type": "markdown",
   "source": "use ranges ",
   "id": "6d7f24a61739b98f"
  },
  {
   "metadata": {
    "ExecuteTime": {
     "end_time": "2024-05-21T09:00:07.998347Z",
     "start_time": "2024-05-21T09:00:07.985276Z"
    }
   },
   "cell_type": "code",
   "source": [
    "myrange = range(10)\n",
    "print(myrange)"
   ],
   "id": "5005e78e0074c486",
   "outputs": [
    {
     "name": "stdout",
     "output_type": "stream",
     "text": [
      "range(0, 10)\n"
     ]
    }
   ],
   "execution_count": 4
  },
  {
   "metadata": {
    "ExecuteTime": {
     "end_time": "2024-05-21T09:00:25.637976Z",
     "start_time": "2024-05-21T09:00:25.634711Z"
    }
   },
   "cell_type": "code",
   "source": [
    "myl = list(myrange)\n",
    "print(myl)"
   ],
   "id": "7e83fab1af2426de",
   "outputs": [
    {
     "name": "stdout",
     "output_type": "stream",
     "text": [
      "[0, 1, 2, 3, 4, 5, 6, 7, 8, 9]\n"
     ]
    }
   ],
   "execution_count": 5
  },
  {
   "metadata": {
    "ExecuteTime": {
     "end_time": "2024-05-21T09:01:06.661037Z",
     "start_time": "2024-05-21T09:01:06.656894Z"
    }
   },
   "cell_type": "code",
   "source": [
    "for i in range(5):\n",
    "    print(f\"i = {i}\")"
   ],
   "id": "de49835b96be9267",
   "outputs": [
    {
     "name": "stdout",
     "output_type": "stream",
     "text": [
      "i = 0\n",
      "i = 1\n",
      "i = 2\n",
      "i = 3\n",
      "i = 4\n"
     ]
    }
   ],
   "execution_count": 6
  },
  {
   "metadata": {
    "ExecuteTime": {
     "end_time": "2024-05-21T09:01:39.300871Z",
     "start_time": "2024-05-21T09:01:39.288938Z"
    }
   },
   "cell_type": "code",
   "source": [
    "myr = range(1,12)\n",
    "print(list(myr))"
   ],
   "id": "10c81bb431e69282",
   "outputs": [
    {
     "name": "stdout",
     "output_type": "stream",
     "text": [
      "[1, 2, 3, 4, 5, 6, 7, 8, 9, 10, 11]\n"
     ]
    }
   ],
   "execution_count": 7
  },
  {
   "metadata": {
    "ExecuteTime": {
     "end_time": "2024-05-21T09:01:52.067171Z",
     "start_time": "2024-05-21T09:01:52.063202Z"
    }
   },
   "cell_type": "code",
   "source": [
    "myr = range(1,12, 2)\n",
    "print(list(myr))"
   ],
   "id": "bf0e3ffc1231bd45",
   "outputs": [
    {
     "name": "stdout",
     "output_type": "stream",
     "text": [
      "[1, 3, 5, 7, 9, 11]\n"
     ]
    }
   ],
   "execution_count": 8
  },
  {
   "metadata": {
    "ExecuteTime": {
     "end_time": "2024-05-21T09:02:14.186416Z",
     "start_time": "2024-05-21T09:02:14.182645Z"
    }
   },
   "cell_type": "code",
   "source": [
    "myr = range(1,12,-1)\n",
    "print(list(myr))"
   ],
   "id": "a50d3a0aea70ad39",
   "outputs": [
    {
     "name": "stdout",
     "output_type": "stream",
     "text": [
      "[]\n"
     ]
    }
   ],
   "execution_count": 9
  },
  {
   "metadata": {
    "ExecuteTime": {
     "end_time": "2024-05-21T09:02:40.138768Z",
     "start_time": "2024-05-21T09:02:40.132474Z"
    }
   },
   "cell_type": "code",
   "source": [
    "myr = range(12, 1, -1)\n",
    "print(list(myr))"
   ],
   "id": "92fafcace213b696",
   "outputs": [
    {
     "name": "stdout",
     "output_type": "stream",
     "text": [
      "[12, 11, 10, 9, 8, 7, 6, 5, 4, 3, 2]\n"
     ]
    }
   ],
   "execution_count": 10
  },
  {
   "metadata": {},
   "cell_type": "code",
   "outputs": [],
   "execution_count": null,
   "source": "",
   "id": "b34f0ae35e15dfba"
  }
 ],
 "metadata": {
  "kernelspec": {
   "display_name": "Python 3",
   "language": "python",
   "name": "python3"
  },
  "language_info": {
   "codemirror_mode": {
    "name": "ipython",
    "version": 2
   },
   "file_extension": ".py",
   "mimetype": "text/x-python",
   "name": "python",
   "nbconvert_exporter": "python",
   "pygments_lexer": "ipython2",
   "version": "2.7.6"
  }
 },
 "nbformat": 4,
 "nbformat_minor": 5
}
