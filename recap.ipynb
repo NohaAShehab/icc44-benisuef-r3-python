{
 "cells": [
  {
   "cell_type": "code",
   "id": "initial_id",
   "metadata": {
    "collapsed": true,
    "jupyter": {
     "is_executing": true
    }
   },
   "source": "print('recap')",
   "outputs": [],
   "execution_count": null
  },
  {
   "metadata": {},
   "cell_type": "raw",
   "source": [
    "If condition example:\n",
    "    ask user to enter his name and check if his name starts with a or A print hello username , else print welcome username "
   ],
   "id": "a9177368244e7d99"
  },
  {
   "metadata": {
    "ExecuteTime": {
     "end_time": "2024-05-21T06:26:06.103006Z",
     "start_time": "2024-05-21T06:26:03.900764Z"
    }
   },
   "cell_type": "code",
   "source": [
    "username = input('Please enter your username: ')\n",
    "print(username, type(username))\n",
    "if username[0]=='a' or username[0]=='A':\n",
    "    print(f'Hello {username}')\n",
    "else:\n",
    "    print(f\"Welcome {username}\")"
   ],
   "id": "adffe9220392ea26",
   "outputs": [
    {
     "name": "stdout",
     "output_type": "stream",
     "text": [
      "Ahmed <class 'str'>\n",
      "Hello Ahmed\n"
     ]
    }
   ],
   "execution_count": 4
  },
  {
   "metadata": {
    "ExecuteTime": {
     "end_time": "2024-05-21T06:27:05.144914Z",
     "start_time": "2024-05-21T06:27:02.802599Z"
    }
   },
   "cell_type": "code",
   "source": [
    "username = input('Please enter your username: ')\n",
    "print(username, type(username))\n",
    "if username[0] in 'aA':\n",
    "    print(f'Hello {username}')\n",
    "else:\n",
    "    print(f\"Welcome {username}\")"
   ],
   "id": "d5330f684417335f",
   "outputs": [
    {
     "name": "stdout",
     "output_type": "stream",
     "text": [
      "noha <class 'str'>\n",
      "Welcome noha\n"
     ]
    }
   ],
   "execution_count": 5
  },
  {
   "metadata": {
    "ExecuteTime": {
     "end_time": "2024-05-21T06:27:56.000715Z",
     "start_time": "2024-05-21T06:27:51.968592Z"
    }
   },
   "cell_type": "code",
   "source": [
    "username = input('Please enter your username: ')\n",
    "print(username, type(username))\n",
    "if username[0].lower() =='a':\n",
    "    print(f'Hello {username}')\n",
    "else:\n",
    "    print(f\"Welcome {username}\")"
   ],
   "id": "73dcdcbc10d095d9",
   "outputs": [
    {
     "name": "stdout",
     "output_type": "stream",
     "text": [
      "Mohamed <class 'str'>\n",
      "Welcome Mohamed\n"
     ]
    }
   ],
   "execution_count": 7
  },
  {
   "metadata": {},
   "cell_type": "raw",
   "source": [
    "For loop example\n",
    "=> ask user to enter his name and then replace a in the given name with @"
   ],
   "id": "51f709d3c0318fbb"
  },
  {
   "metadata": {
    "ExecuteTime": {
     "end_time": "2024-05-21T06:31:53.994666Z",
     "start_time": "2024-05-21T06:31:49.444609Z"
    }
   },
   "cell_type": "code",
   "source": [
    "name = input('Please enter your username: ')  # string \n",
    "newname = ''\n",
    "for letter in name:\n",
    "    if letter.lower()=='a':\n",
    "        newname +='@'\n",
    "    else:\n",
    "        newname += letter\n",
    "\n",
    "print(newname)\n",
    " "
   ],
   "id": "83b17508bfdb448e",
   "outputs": [
    {
     "name": "stdout",
     "output_type": "stream",
     "text": [
      "@hm@d\n"
     ]
    }
   ],
   "execution_count": 11
  },
  {
   "metadata": {},
   "cell_type": "raw",
   "source": [
    "For loop example\n",
    "display index of each char in any given word "
   ],
   "id": "709b1237b3a1f032"
  },
  {
   "metadata": {
    "ExecuteTime": {
     "end_time": "2024-05-21T06:40:29.808499Z",
     "start_time": "2024-05-21T06:40:28.207513Z"
    }
   },
   "cell_type": "code",
   "source": [
    "anyword = input('Please enter any word: ')\n",
    "char_index = 0\n",
    "for c in anyword:\n",
    "    if c=='i':\n",
    "        print(f'index of c is {char_index}')\n",
    "    char_index += 1"
   ],
   "id": "ccd24ccfe0c00ac",
   "outputs": [
    {
     "name": "stdout",
     "output_type": "stream",
     "text": [
      "index of c is 0\n",
      "index of c is 1\n",
      "index of c is 2\n"
     ]
    }
   ],
   "execution_count": 15
  },
  {
   "metadata": {},
   "cell_type": "raw",
   "source": "Numbers",
   "id": "67b0fa81f41fcb5c"
  },
  {
   "metadata": {
    "ExecuteTime": {
     "end_time": "2024-05-21T06:44:21.121226Z",
     "start_time": "2024-05-21T06:44:21.117803Z"
    }
   },
   "cell_type": "code",
   "source": [
    "num1 = 10 \n",
    "print(type(num1))"
   ],
   "id": "c0807637aed6f1f",
   "outputs": [
    {
     "name": "stdout",
     "output_type": "stream",
     "text": [
      "<class 'int'>\n"
     ]
    }
   ],
   "execution_count": 16
  },
  {
   "metadata": {
    "ExecuteTime": {
     "end_time": "2024-05-21T06:44:30.687873Z",
     "start_time": "2024-05-21T06:44:30.676466Z"
    }
   },
   "cell_type": "code",
   "source": [
    "num2 =9.8\n",
    "print(type(num2))"
   ],
   "id": "18f26b8fc8d6868b",
   "outputs": [
    {
     "name": "stdout",
     "output_type": "stream",
     "text": [
      "<class 'float'>\n"
     ]
    }
   ],
   "execution_count": 17
  },
  {
   "metadata": {
    "ExecuteTime": {
     "end_time": "2024-05-21T06:45:06.238542Z",
     "start_time": "2024-05-21T06:45:06.234722Z"
    }
   },
   "cell_type": "code",
   "source": [
    "c1 = 5+4j \n",
    "print(type(c1), c1)"
   ],
   "id": "3894e506e7cc4f3",
   "outputs": [
    {
     "name": "stdout",
     "output_type": "stream",
     "text": [
      "<class 'complex'> (5+4j)\n"
     ]
    }
   ],
   "execution_count": 18
  },
  {
   "metadata": {
    "ExecuteTime": {
     "end_time": "2024-05-21T06:45:31.695944Z",
     "start_time": "2024-05-21T06:45:31.692513Z"
    }
   },
   "cell_type": "code",
   "source": [
    "c2 = complex(4,6)\n",
    "print(type(c2), c2)"
   ],
   "id": "be8ace15fff900a9",
   "outputs": [
    {
     "name": "stdout",
     "output_type": "stream",
     "text": [
      "<class 'complex'> (4+6j)\n"
     ]
    }
   ],
   "execution_count": 19
  },
  {
   "metadata": {
    "ExecuteTime": {
     "end_time": "2024-05-21T06:46:18.354049Z",
     "start_time": "2024-05-21T06:46:18.349304Z"
    }
   },
   "cell_type": "code",
   "source": [
    "res  =  min(4,5,632,33,4,23,1)\n",
    "print(res)"
   ],
   "id": "f1cefb1a41e72536",
   "outputs": [
    {
     "name": "stdout",
     "output_type": "stream",
     "text": [
      "1\n"
     ]
    }
   ],
   "execution_count": 20
  },
  {
   "metadata": {
    "ExecuteTime": {
     "end_time": "2024-05-21T06:46:30.151985Z",
     "start_time": "2024-05-21T06:46:30.137372Z"
    }
   },
   "cell_type": "code",
   "source": [
    "res  =  max(4,5,632,33,4,23,1)\n",
    "print(res)"
   ],
   "id": "1315e26eb865d7ec",
   "outputs": [
    {
     "name": "stdout",
     "output_type": "stream",
     "text": [
      "632\n"
     ]
    }
   ],
   "execution_count": 21
  },
  {
   "metadata": {
    "ExecuteTime": {
     "end_time": "2024-05-21T06:47:11.037776Z",
     "start_time": "2024-05-21T06:47:11.033640Z"
    }
   },
   "cell_type": "code",
   "source": [
    "num3=44.8\n",
    "print(type(num3), round(num3))"
   ],
   "id": "28f6ea5d7c4fa779",
   "outputs": [
    {
     "name": "stdout",
     "output_type": "stream",
     "text": [
      "<class 'float'> 45\n"
     ]
    }
   ],
   "execution_count": 23
  },
  {
   "metadata": {},
   "cell_type": "code",
   "outputs": [],
   "execution_count": null,
   "source": "",
   "id": "d96125ece87e5ec7"
  }
 ],
 "metadata": {
  "kernelspec": {
   "display_name": "Python 3",
   "language": "python",
   "name": "python3"
  },
  "language_info": {
   "codemirror_mode": {
    "name": "ipython",
    "version": 2
   },
   "file_extension": ".py",
   "mimetype": "text/x-python",
   "name": "python",
   "nbconvert_exporter": "python",
   "pygments_lexer": "ipython2",
   "version": "2.7.6"
  }
 },
 "nbformat": 4,
 "nbformat_minor": 5
}
