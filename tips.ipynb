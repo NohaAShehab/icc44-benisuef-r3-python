{
 "cells": [
  {
   "metadata": {},
   "cell_type": "markdown",
   "source": "print char of given string ",
   "id": "3d929f447c5d9630"
  },
  {
   "metadata": {
    "ExecuteTime": {
     "end_time": "2024-05-22T06:34:41.196376Z",
     "start_time": "2024-05-22T06:34:38.981277Z"
    }
   },
   "cell_type": "code",
   "source": [
    "message = input(\"please enter message : \")\n",
    "for char in message:\n",
    "    print(char)"
   ],
   "id": "40ced478047fd608",
   "outputs": [],
   "execution_count": 16
  },
  {
   "metadata": {},
   "cell_type": "markdown",
   "source": [
    "ask user to enter 5 words ---> \n",
    "then modify the first char of each word to be Capital letter "
   ],
   "id": "21fc2582ced0286"
  },
  {
   "cell_type": "code",
   "id": "initial_id",
   "metadata": {
    "collapsed": true,
    "ExecuteTime": {
     "end_time": "2024-05-22T06:34:46.376406Z",
     "start_time": "2024-05-22T06:34:41.199405Z"
    }
   },
   "source": [
    "words = []\n",
    "for i in range(5):\n",
    "    word = input(\"please enter word : \")\n",
    "    word = word.capitalize()\n",
    "    words.append(word)\n",
    "    \n",
    "print(words)    "
   ],
   "outputs": [
    {
     "name": "stdout",
     "output_type": "stream",
     "text": [
      "['', '', '', '', '']\n"
     ]
    }
   ],
   "execution_count": 17
  },
  {
   "metadata": {},
   "cell_type": "markdown",
   "source": [
    "ask user to enter five words then if the word contains ((a)) char at any position\n",
    "generate new sublist with name contains_a and add this word to "
   ],
   "id": "79e331f9ba408d75"
  },
  {
   "metadata": {
    "ExecuteTime": {
     "end_time": "2024-05-22T06:34:50.803982Z",
     "start_time": "2024-05-22T06:34:46.388515Z"
    }
   },
   "cell_type": "code",
   "source": [
    "words = []\n",
    "contains_a = []\n",
    "for i in range(5):\n",
    "    word = input(\"please enter word : \")\n",
    "    words.append(word)\n",
    "    for char in word:\n",
    "        if char =='a':\n",
    "            contains_a.append(word)\n",
    "            break\n",
    "    \n",
    "\n",
    "print(contains_a, words)            "
   ],
   "id": "51c1bb3e009113fa",
   "outputs": [
    {
     "name": "stdout",
     "output_type": "stream",
     "text": [
      "[] ['', '', '', '', 'd']\n"
     ]
    }
   ],
   "execution_count": 18
  },
  {
   "metadata": {
    "ExecuteTime": {
     "end_time": "2024-05-22T06:34:55.626575Z",
     "start_time": "2024-05-22T06:34:50.812596Z"
    }
   },
   "cell_type": "code",
   "source": [
    "words = []\n",
    "contains_a = []\n",
    "for i in range(5):\n",
    "    word = input(\"please enter word : \")\n",
    "    words.append(word)\n",
    "    if 'a' in word:\n",
    "        contains_a.append(word)\n",
    "        \n",
    "print(words, contains_a)\n",
    "    \n",
    "        \n",
    "    "
   ],
   "id": "900cea99b1339f7f",
   "outputs": [
    {
     "name": "stdout",
     "output_type": "stream",
     "text": [
      "['d', '', '', 'd', 'd'] []\n"
     ]
    }
   ],
   "execution_count": 19
  },
  {
   "metadata": {},
   "cell_type": "raw",
   "source": [
    "construct the below numbers \n",
    "1 2 3\n",
    "4 5 6\n",
    "7 8 9"
   ],
   "id": "63f4fa501ac1b642"
  },
  {
   "metadata": {
    "ExecuteTime": {
     "end_time": "2024-05-22T06:34:55.638088Z",
     "start_time": "2024-05-22T06:34:55.631231Z"
    }
   },
   "cell_type": "code",
   "source": [
    "for num in range(1, 10):\n",
    "    print(num, end=' ')\n",
    "    if num %3==0:\n",
    "        print()\n",
    "    "
   ],
   "id": "fbf19eed91aeff00",
   "outputs": [
    {
     "name": "stdout",
     "output_type": "stream",
     "text": [
      "1 2 3 \n",
      "4 5 6 \n",
      "7 8 9 \n"
     ]
    }
   ],
   "execution_count": 20
  },
  {
   "metadata": {},
   "cell_type": "raw",
   "source": [
    "print  1-> 5 \n",
    "\n",
    "1*1 = 1\n",
    "1*2 = 2\n",
    "1*3 = 3\n",
    "1 *4 = 4\n",
    "1*5  = 5\n",
    "\n",
    "-----------\n",
    "2*1 = 2\n",
    "2*2 = 4\n",
    "2*3 = 6\n",
    "2 *4 = 8\n",
    "2*5  = 10"
   ],
   "id": "5dd1421f6f99abe"
  },
  {
   "metadata": {
    "ExecuteTime": {
     "end_time": "2024-05-22T06:36:39.761968Z",
     "start_time": "2024-05-22T06:36:39.754033Z"
    }
   },
   "cell_type": "code",
   "source": [
    "for x in range(1, 6):\n",
    "    for y in range(1, 6):\n",
    "        print(f'{x} x {y} = {x*y}')\n",
    "    print()"
   ],
   "id": "4d06c9db1096d307",
   "outputs": [
    {
     "name": "stdout",
     "output_type": "stream",
     "text": [
      "1 x 1 = 1\n",
      "1 x 2 = 2\n",
      "1 x 3 = 3\n",
      "1 x 4 = 4\n",
      "1 x 5 = 5\n",
      "\n",
      "2 x 1 = 2\n",
      "2 x 2 = 4\n",
      "2 x 3 = 6\n",
      "2 x 4 = 8\n",
      "2 x 5 = 10\n",
      "\n",
      "3 x 1 = 3\n",
      "3 x 2 = 6\n",
      "3 x 3 = 9\n",
      "3 x 4 = 12\n",
      "3 x 5 = 15\n",
      "\n",
      "4 x 1 = 4\n",
      "4 x 2 = 8\n",
      "4 x 3 = 12\n",
      "4 x 4 = 16\n",
      "4 x 5 = 20\n",
      "\n",
      "5 x 1 = 5\n",
      "5 x 2 = 10\n",
      "5 x 3 = 15\n",
      "5 x 4 = 20\n",
      "5 x 5 = 25\n",
      "\n"
     ]
    }
   ],
   "execution_count": 23
  },
  {
   "metadata": {},
   "cell_type": "raw",
   "source": [
    "    *\n",
    "   ***\n",
    "  *****\n",
    " *******"
   ],
   "id": "47b9efe237c44391"
  },
  {
   "metadata": {
    "ExecuteTime": {
     "end_time": "2024-05-22T06:58:38.448348Z",
     "start_time": "2024-05-22T06:58:38.441147Z"
    }
   },
   "cell_type": "code",
   "source": [
    "for i in range(4):\n",
    "    anyspace = \" \"* (4-i-1)\n",
    "    stars  =  \"*\"*(2*i+1)\n",
    "    print(\"|\",anyspace,stars)"
   ],
   "id": "d5e9e19258609969",
   "outputs": [
    {
     "name": "stdout",
     "output_type": "stream",
     "text": [
      "|     *\n",
      "|    ***\n",
      "|   *****\n",
      "|  *******\n"
     ]
    }
   ],
   "execution_count": 37
  },
  {
   "metadata": {
    "ExecuteTime": {
     "end_time": "2024-05-22T06:54:20.893173Z",
     "start_time": "2024-05-22T06:54:20.887879Z"
    }
   },
   "cell_type": "code",
   "source": [
    "h = 5\n",
    "for i in range(h+1):\n",
    "    print(\" \"*(h-i), '*'*i)"
   ],
   "id": "8d4e800473a8a48c",
   "outputs": [
    {
     "name": "stdout",
     "output_type": "stream",
     "text": [
      "      \n",
      "     *\n",
      "    **\n",
      "   ***\n",
      "  ****\n",
      " *****\n"
     ]
    }
   ],
   "execution_count": 33
  },
  {
   "metadata": {
    "ExecuteTime": {
     "end_time": "2024-05-22T07:00:26.660337Z",
     "start_time": "2024-05-22T07:00:26.655409Z"
    }
   },
   "cell_type": "code",
   "source": [
    "var  = 3\n",
    "for i in range(1, 9, 2):\n",
    "    print(\" \"*var, \"*\"*i)\n",
    "    var -=1"
   ],
   "id": "2672a7aab0f20450",
   "outputs": [
    {
     "name": "stdout",
     "output_type": "stream",
     "text": [
      "    *\n",
      "   ***\n",
      "  *****\n",
      " *******\n"
     ]
    }
   ],
   "execution_count": 42
  },
  {
   "metadata": {
    "ExecuteTime": {
     "end_time": "2024-05-22T07:04:02.785564Z",
     "start_time": "2024-05-22T07:04:01.929250Z"
    }
   },
   "cell_type": "code",
   "source": [
    "no_of_lines = input(\"please enter number of lines : \")\n",
    "if no_of_lines.isdigit():\n",
    "    no_of_lines = int(no_of_lines)\n",
    "    if no_of_lines %2==0:\n",
    "        for i in range(no_of_lines):\n",
    "            anyspace = \" \"* (no_of_lines-i-1)\n",
    "            stars  =  \"*\"*(2*i+1)\n",
    "            print(\"|\",anyspace,stars)"
   ],
   "id": "ae255c06d8aec509",
   "outputs": [
    {
     "name": "stdout",
     "output_type": "stream",
     "text": [
      "|       *\n",
      "|      ***\n",
      "|     *****\n",
      "|    *******\n",
      "|   *********\n",
      "|  ***********\n"
     ]
    }
   ],
   "execution_count": 48
  },
  {
   "metadata": {
    "ExecuteTime": {
     "end_time": "2024-05-22T07:03:58.397525Z",
     "start_time": "2024-05-22T07:03:58.393916Z"
    }
   },
   "cell_type": "code",
   "source": "",
   "id": "fe8db39dfcf0c303",
   "outputs": [],
   "execution_count": 47
  },
  {
   "metadata": {},
   "cell_type": "raw",
   "source": [
    "* ****\n",
    "** ***\n",
    "*** **\n",
    "**** *"
   ],
   "id": "b105073d47f47ccf"
  },
  {
   "metadata": {
    "ExecuteTime": {
     "end_time": "2024-05-22T07:10:56.808658Z",
     "start_time": "2024-05-22T07:10:56.792984Z"
    }
   },
   "cell_type": "code",
   "source": [
    "for i in range(1,5):\n",
    "    print(f\"{i* '*'} {(5-i)*'*'}\")"
   ],
   "id": "466346ce37a16f71",
   "outputs": [
    {
     "name": "stdout",
     "output_type": "stream",
     "text": [
      "* ****\n",
      "** ***\n",
      "*** **\n",
      "**** *\n"
     ]
    }
   ],
   "execution_count": 55
  },
  {
   "metadata": {
    "ExecuteTime": {
     "end_time": "2024-05-22T07:19:34.657532Z",
     "start_time": "2024-05-22T07:19:33.222851Z"
    }
   },
   "cell_type": "code",
   "source": [
    "\n",
    "list2 = []\n",
    "list1 = []\n",
    "number = input(\"please enter number : \")\n",
    "if number.isdigit():\n",
    "    number = int(number)\n",
    "    for x in range(1 , number+1):\n",
    "        list1.clear()\n",
    "        for y in range(1, x+1):\n",
    "            list1.append(x*y)\n",
    "        list2.append(list1)\n",
    "    print(list2)\n",
    "else:\n",
    "    print(\"--- please enter valid number \")"
   ],
   "id": "e3f50a89aa19adc7",
   "outputs": [
    {
     "name": "stdout",
     "output_type": "stream",
     "text": [
      "[[], [], []]\n"
     ]
    }
   ],
   "execution_count": 63
  },
  {
   "metadata": {},
   "cell_type": "code",
   "outputs": [],
   "execution_count": null,
   "source": "",
   "id": "20aee8ad28c9b92e"
  }
 ],
 "metadata": {
  "kernelspec": {
   "display_name": "Python 3",
   "language": "python",
   "name": "python3"
  },
  "language_info": {
   "codemirror_mode": {
    "name": "ipython",
    "version": 2
   },
   "file_extension": ".py",
   "mimetype": "text/x-python",
   "name": "python",
   "nbconvert_exporter": "python",
   "pygments_lexer": "ipython2",
   "version": "2.7.6"
  }
 },
 "nbformat": 4,
 "nbformat_minor": 5
}
