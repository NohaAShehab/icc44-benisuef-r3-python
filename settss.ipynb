{
 "cells": [
  {
   "cell_type": "code",
   "id": "initial_id",
   "metadata": {
    "collapsed": true,
    "ExecuteTime": {
     "end_time": "2024-05-21T09:05:52.927027Z",
     "start_time": "2024-05-21T09:05:52.923430Z"
    }
   },
   "source": [
    "mys = set()\n",
    "mys2 = {\"iti\", 34, 'iti', 'python', 'powerbi', 33.4, True, None, 'iti'}"
   ],
   "outputs": [],
   "execution_count": 3
  },
  {
   "metadata": {
    "ExecuteTime": {
     "end_time": "2024-05-21T09:05:54.552507Z",
     "start_time": "2024-05-21T09:05:54.548928Z"
    }
   },
   "cell_type": "code",
   "source": "print(mys2)",
   "id": "2c8a05f0b906590b",
   "outputs": [
    {
     "name": "stdout",
     "output_type": "stream",
     "text": [
      "{'iti', 33.4, 34, True, 'python', None, 'powerbi'}\n"
     ]
    }
   ],
   "execution_count": 4
  },
  {
   "metadata": {},
   "cell_type": "markdown",
   "source": [
    "No index in set ?\n",
    "no duplication\n",
    "unordered datatype\n",
    "set is mutable datatype "
   ],
   "id": "7acdd913d9509bf7"
  },
  {
   "metadata": {
    "ExecuteTime": {
     "end_time": "2024-05-21T09:06:19.858674Z",
     "start_time": "2024-05-21T09:06:19.853761Z"
    }
   },
   "cell_type": "code",
   "source": [
    "mys2.add('anyitem')\n",
    "print(mys2)"
   ],
   "id": "45625622d6f573a7",
   "outputs": [
    {
     "name": "stdout",
     "output_type": "stream",
     "text": [
      "{'iti', 33.4, 34, True, 'python', None, 'powerbi', 'anyitem'}\n"
     ]
    }
   ],
   "execution_count": 5
  },
  {
   "metadata": {
    "ExecuteTime": {
     "end_time": "2024-05-21T09:06:33.541414Z",
     "start_time": "2024-05-21T09:06:33.537819Z"
    }
   },
   "cell_type": "code",
   "source": [
    "mys2.add('data')\n",
    "print(mys2)"
   ],
   "id": "18672d786c8a8b63",
   "outputs": [
    {
     "name": "stdout",
     "output_type": "stream",
     "text": [
      "{True, None, 'powerbi', 'data', 33.4, 34, 'anyitem', 'iti', 'python'}\n"
     ]
    }
   ],
   "execution_count": 6
  },
  {
   "metadata": {},
   "cell_type": "markdown",
   "source": "to remove element ? ",
   "id": "b756e650cbc279b1"
  },
  {
   "metadata": {
    "ExecuteTime": {
     "end_time": "2024-05-21T09:07:04.206124Z",
     "start_time": "2024-05-21T09:07:04.201876Z"
    }
   },
   "cell_type": "code",
   "source": [
    "mys2.remove('iti')\n",
    "print(mys2)"
   ],
   "id": "29655e30b8543ecf",
   "outputs": [
    {
     "name": "stdout",
     "output_type": "stream",
     "text": [
      "{True, None, 'powerbi', 'data', 33.4, 34, 'anyitem', 'python'}\n"
     ]
    }
   ],
   "execution_count": 7
  },
  {
   "metadata": {
    "ExecuteTime": {
     "end_time": "2024-05-21T09:07:15.244426Z",
     "start_time": "2024-05-21T09:07:15.232242Z"
    }
   },
   "cell_type": "code",
   "source": "print(mys2.pop())",
   "id": "8acc64b0226af2ea",
   "outputs": [
    {
     "name": "stdout",
     "output_type": "stream",
     "text": [
      "True\n"
     ]
    }
   ],
   "execution_count": 8
  },
  {
   "metadata": {
    "ExecuteTime": {
     "end_time": "2024-05-21T09:07:59.134711Z",
     "start_time": "2024-05-21T09:07:59.131064Z"
    }
   },
   "cell_type": "code",
   "source": [
    "sett3 = {'iti', 344,333.3,('iti', 'powerbi')}\n",
    "print(sett3)"
   ],
   "id": "e53aee655716bf1b",
   "outputs": [
    {
     "name": "stdout",
     "output_type": "stream",
     "text": [
      "{'iti', ('iti', 'powerbi'), 344, 333.3}\n"
     ]
    }
   ],
   "execution_count": 9
  },
  {
   "metadata": {
    "ExecuteTime": {
     "end_time": "2024-05-21T09:08:16.328873Z",
     "start_time": "2024-05-21T09:08:16.071894Z"
    }
   },
   "cell_type": "code",
   "source": "sett3.add(['fff', 'data', 2424])",
   "id": "3b40b44d08cf2036",
   "outputs": [
    {
     "ename": "TypeError",
     "evalue": "unhashable type: 'list'",
     "output_type": "error",
     "traceback": [
      "\u001B[0;31m---------------------------------------------------------------------------\u001B[0m",
      "\u001B[0;31mTypeError\u001B[0m                                 Traceback (most recent call last)",
      "Cell \u001B[0;32mIn[10], line 1\u001B[0m\n\u001B[0;32m----> 1\u001B[0m \u001B[43msett3\u001B[49m\u001B[38;5;241;43m.\u001B[39;49m\u001B[43madd\u001B[49m\u001B[43m(\u001B[49m\u001B[43m[\u001B[49m\u001B[38;5;124;43m'\u001B[39;49m\u001B[38;5;124;43mfff\u001B[39;49m\u001B[38;5;124;43m'\u001B[39;49m\u001B[43m,\u001B[49m\u001B[43m \u001B[49m\u001B[38;5;124;43m'\u001B[39;49m\u001B[38;5;124;43mdata\u001B[39;49m\u001B[38;5;124;43m'\u001B[39;49m\u001B[43m,\u001B[49m\u001B[43m \u001B[49m\u001B[38;5;241;43m2424\u001B[39;49m\u001B[43m]\u001B[49m\u001B[43m)\u001B[49m\n",
      "\u001B[0;31mTypeError\u001B[0m: unhashable type: 'list'"
     ]
    }
   ],
   "execution_count": 10
  },
  {
   "metadata": {},
   "cell_type": "markdown",
   "source": "sets accept only immutable datatype ",
   "id": "e1bf675c71700282"
  },
  {
   "metadata": {},
   "cell_type": "code",
   "outputs": [],
   "execution_count": null,
   "source": "",
   "id": "f76e00042fb2370b"
  }
 ],
 "metadata": {
  "kernelspec": {
   "display_name": "Python 3",
   "language": "python",
   "name": "python3"
  },
  "language_info": {
   "codemirror_mode": {
    "name": "ipython",
    "version": 2
   },
   "file_extension": ".py",
   "mimetype": "text/x-python",
   "name": "python",
   "nbconvert_exporter": "python",
   "pygments_lexer": "ipython2",
   "version": "2.7.6"
  }
 },
 "nbformat": 4,
 "nbformat_minor": 5
}
