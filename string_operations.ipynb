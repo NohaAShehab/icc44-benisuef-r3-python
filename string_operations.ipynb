{
 "cells": [
  {
   "cell_type": "code",
   "id": "initial_id",
   "metadata": {
    "collapsed": true,
    "ExecuteTime": {
     "end_time": "2024-05-20T09:09:27.131009Z",
     "start_time": "2024-05-20T09:09:27.122825Z"
    }
   },
   "source": [
    "iti = 'information technology institute'\n",
    "print(iti,type(iti))"
   ],
   "outputs": [
    {
     "name": "stdout",
     "output_type": "stream",
     "text": [
      "information technology institute <class 'str'>\n"
     ]
    }
   ],
   "execution_count": 1
  },
  {
   "metadata": {},
   "cell_type": "markdown",
   "source": "1- get len of string ",
   "id": "b383bb4ba5f70ce4"
  },
  {
   "metadata": {
    "ExecuteTime": {
     "end_time": "2024-05-20T09:09:56.391836Z",
     "start_time": "2024-05-20T09:09:56.385336Z"
    }
   },
   "cell_type": "code",
   "source": "print(len(iti))",
   "id": "7e67c37d11f40af0",
   "outputs": [
    {
     "name": "stdout",
     "output_type": "stream",
     "text": [
      "32\n"
     ]
    }
   ],
   "execution_count": 2
  },
  {
   "metadata": {},
   "cell_type": "markdown",
   "source": "count char occurence in the string",
   "id": "da97d0421bd3623f"
  },
  {
   "metadata": {
    "ExecuteTime": {
     "end_time": "2024-05-20T09:10:26.573858Z",
     "start_time": "2024-05-20T09:10:26.561721Z"
    }
   },
   "cell_type": "code",
   "source": "print(iti.count('i'))",
   "id": "c7ddc294f44c9748",
   "outputs": [
    {
     "name": "stdout",
     "output_type": "stream",
     "text": [
      "4\n"
     ]
    }
   ],
   "execution_count": 3
  },
  {
   "metadata": {},
   "cell_type": "markdown",
   "source": [
    "string is treated like an array >> each char is assigned to index --> start from 0\n",
    "get index of char"
   ],
   "id": "7568748da0babe"
  },
  {
   "metadata": {
    "ExecuteTime": {
     "end_time": "2024-05-20T09:12:12.937283Z",
     "start_time": "2024-05-20T09:12:12.932701Z"
    }
   },
   "cell_type": "code",
   "source": [
    "print(iti.index('t')) # return with index of the first occurrence (first hit)\n",
    "print(iti.count('t'))"
   ],
   "id": "db61447e401d9152",
   "outputs": [
    {
     "name": "stdout",
     "output_type": "stream",
     "text": [
      "7\n",
      "5\n"
     ]
    }
   ],
   "execution_count": 5
  },
  {
   "metadata": {},
   "cell_type": "markdown",
   "source": "slicing string ",
   "id": "8545efc52e186c46"
  },
  {
   "metadata": {
    "ExecuteTime": {
     "end_time": "2024-05-20T09:13:31.408229Z",
     "start_time": "2024-05-20T09:13:31.403752Z"
    }
   },
   "cell_type": "code",
   "source": [
    "iti= 'information technology institute'\n",
    "print(iti[1:6])"
   ],
   "id": "85a391de16d1a340",
   "outputs": [
    {
     "name": "stdout",
     "output_type": "stream",
     "text": [
      "nform\n"
     ]
    }
   ],
   "execution_count": 6
  },
  {
   "metadata": {
    "ExecuteTime": {
     "end_time": "2024-05-20T09:14:01.648959Z",
     "start_time": "2024-05-20T09:14:01.645431Z"
    }
   },
   "cell_type": "code",
   "source": "print(iti[3:])",
   "id": "cb12b34e365dec71",
   "outputs": [
    {
     "name": "stdout",
     "output_type": "stream",
     "text": [
      "ormation technology institute\n"
     ]
    }
   ],
   "execution_count": 7
  },
  {
   "metadata": {
    "ExecuteTime": {
     "end_time": "2024-05-20T09:14:17.923362Z",
     "start_time": "2024-05-20T09:14:17.917993Z"
    }
   },
   "cell_type": "code",
   "source": "print(iti[::])",
   "id": "e96df1b32b146666",
   "outputs": [
    {
     "name": "stdout",
     "output_type": "stream",
     "text": [
      "information technology institute\n"
     ]
    }
   ],
   "execution_count": 8
  },
  {
   "metadata": {
    "ExecuteTime": {
     "end_time": "2024-05-20T09:14:26.693629Z",
     "start_time": "2024-05-20T09:14:26.690377Z"
    }
   },
   "cell_type": "code",
   "source": "print(iti[::-1])",
   "id": "fbabff06087c2046",
   "outputs": [
    {
     "name": "stdout",
     "output_type": "stream",
     "text": [
      "etutitsni ygolonhcet noitamrofni\n"
     ]
    }
   ],
   "execution_count": 9
  },
  {
   "metadata": {
    "ExecuteTime": {
     "end_time": "2024-05-20T09:14:41.614886Z",
     "start_time": "2024-05-20T09:14:41.611635Z"
    }
   },
   "cell_type": "code",
   "source": "print(iti[2::2])",
   "id": "8a58f57aeb9657df",
   "outputs": [
    {
     "name": "stdout",
     "output_type": "stream",
     "text": [
      "fraintcnlg nttt\n"
     ]
    }
   ],
   "execution_count": 10
  },
  {
   "metadata": {},
   "cell_type": "markdown",
   "source": "string concat",
   "id": "40e13dccb91f496"
  },
  {
   "metadata": {
    "ExecuteTime": {
     "end_time": "2024-05-20T09:16:35.762266Z",
     "start_time": "2024-05-20T09:16:35.756650Z"
    }
   },
   "cell_type": "code",
   "source": [
    "fname= 'noha'\n",
    "midname= 'abdelhady'\n",
    "lname='shehab'\n",
    "fullname = fname + ' ' + midname + ' ' + midname +\" \"+lname\n",
    "print(fullname)"
   ],
   "id": "2ac76548d64b8baa",
   "outputs": [
    {
     "name": "stdout",
     "output_type": "stream",
     "text": [
      "noha abdelhady abdelhady shehab\n"
     ]
    }
   ],
   "execution_count": 12
  },
  {
   "metadata": {},
   "cell_type": "markdown",
   "source": "string interpolation",
   "id": "71f516929aca8234"
  },
  {
   "metadata": {
    "ExecuteTime": {
     "end_time": "2024-05-20T09:17:12.437714Z",
     "start_time": "2024-05-20T09:17:12.433871Z"
    }
   },
   "cell_type": "code",
   "source": "fullname = fname + ' ' + (midname + ' ')*2 +lname\n",
   "id": "e3a08614de47c12f",
   "outputs": [],
   "execution_count": 13
  },
  {
   "metadata": {
    "ExecuteTime": {
     "end_time": "2024-05-20T09:17:15.510931Z",
     "start_time": "2024-05-20T09:17:15.507160Z"
    }
   },
   "cell_type": "code",
   "source": "print(fullname)",
   "id": "89681c1244acbbf4",
   "outputs": [
    {
     "name": "stdout",
     "output_type": "stream",
     "text": [
      "noha abdelhady abdelhady shehab\n"
     ]
    }
   ],
   "execution_count": 14
  },
  {
   "metadata": {
    "ExecuteTime": {
     "end_time": "2024-05-20T09:17:33.378089Z",
     "start_time": "2024-05-20T09:17:33.370623Z"
    }
   },
   "cell_type": "code",
   "source": "print('iti_'*10)",
   "id": "60a524f835010466",
   "outputs": [
    {
     "name": "stdout",
     "output_type": "stream",
     "text": [
      "iti_iti_iti_iti_iti_iti_iti_iti_iti_iti_\n"
     ]
    }
   ],
   "execution_count": 15
  },
  {
   "metadata": {},
   "cell_type": "raw",
   "source": "Format string ",
   "id": "9ca3ea03e0b2798d"
  },
  {
   "metadata": {
    "ExecuteTime": {
     "end_time": "2024-05-20T09:19:40.816515Z",
     "start_time": "2024-05-20T09:19:40.811597Z"
    }
   },
   "cell_type": "code",
   "source": [
    "no_of_students = 25\n",
    "course_name= 'python'\n",
    "msg = 'we have {0} students studies {1} course'\n",
    "print(msg)"
   ],
   "id": "4dfcf5c266b87eaf",
   "outputs": [
    {
     "name": "stdout",
     "output_type": "stream",
     "text": [
      "we have {0} students studies {1} course\n"
     ]
    }
   ],
   "execution_count": 16
  },
  {
   "metadata": {},
   "cell_type": "markdown",
   "source": "format string ",
   "id": "3183b7c335dd354b"
  },
  {
   "metadata": {
    "ExecuteTime": {
     "end_time": "2024-05-20T09:20:51.309421Z",
     "start_time": "2024-05-20T09:20:51.304740Z"
    }
   },
   "cell_type": "code",
   "source": [
    "newmsg = msg.format(no_of_students,course_name)\n",
    "print(newmsg)"
   ],
   "id": "b32bd66c572403b0",
   "outputs": [
    {
     "name": "stdout",
     "output_type": "stream",
     "text": [
      "we have 25 students studies python course\n"
     ]
    }
   ],
   "execution_count": 17
  },
  {
   "metadata": {
    "ExecuteTime": {
     "end_time": "2024-05-20T09:21:26.778432Z",
     "start_time": "2024-05-20T09:21:26.773138Z"
    }
   },
   "cell_type": "code",
   "source": [
    "newmsg2= msg.format(course_name, no_of_students)\n",
    "print(newmsg2)"
   ],
   "id": "51bfc28ac0f3b00e",
   "outputs": [
    {
     "name": "stdout",
     "output_type": "stream",
     "text": [
      "we have python students studies 25 course\n"
     ]
    }
   ],
   "execution_count": 19
  },
  {
   "metadata": {},
   "cell_type": "markdown",
   "source": "define for template using keywords",
   "id": "c519fb78bd1c6d56"
  },
  {
   "metadata": {
    "ExecuteTime": {
     "end_time": "2024-05-20T09:22:22.865968Z",
     "start_time": "2024-05-20T09:22:22.858603Z"
    }
   },
   "cell_type": "code",
   "source": [
    "msg = 'we have {anynum} students studies {anycourse} course'\n",
    "print(msg)\n"
   ],
   "id": "2bf7bad41e5b8d00",
   "outputs": [
    {
     "name": "stdout",
     "output_type": "stream",
     "text": [
      "we have {anynum} students studies {anycourse} course\n"
     ]
    }
   ],
   "execution_count": 20
  },
  {
   "metadata": {},
   "cell_type": "markdown",
   "source": "",
   "id": "ffd5fda156b5e87c"
  },
  {
   "metadata": {
    "ExecuteTime": {
     "end_time": "2024-05-20T09:22:41.832868Z",
     "start_time": "2024-05-20T09:22:41.829194Z"
    }
   },
   "cell_type": "code",
   "source": [
    "newmsg3= msg.format(anynum=no_of_students, anycourse=course_name)\n",
    "print(newmsg3)"
   ],
   "id": "67dd2b789989878b",
   "outputs": [
    {
     "name": "stdout",
     "output_type": "stream",
     "text": [
      "we have 25 students studies python course\n"
     ]
    }
   ],
   "execution_count": 21
  },
  {
   "metadata": {},
   "cell_type": "markdown",
   "source": "format string --> f-format ",
   "id": "c466ee42600df75b"
  },
  {
   "metadata": {
    "ExecuteTime": {
     "end_time": "2024-05-20T09:24:10.077390Z",
     "start_time": "2024-05-20T09:24:10.074062Z"
    }
   },
   "cell_type": "code",
   "source": [
    "newmsg4= f'we have {no_of_students}, studies {course_name} course'\n",
    "print(newmsg4)"
   ],
   "id": "4b185e2e9ad10466",
   "outputs": [
    {
     "name": "stdout",
     "output_type": "stream",
     "text": [
      "we have 25, studies python course\n"
     ]
    }
   ],
   "execution_count": 22
  },
  {
   "metadata": {},
   "cell_type": "markdown",
   "source": "format string functions always returns with string ",
   "id": "6d39a8d4aeb23638"
  },
  {
   "metadata": {
    "ExecuteTime": {
     "end_time": "2024-05-20T09:25:23.391726Z",
     "start_time": "2024-05-20T09:25:23.175268Z"
    }
   },
   "cell_type": "code",
   "source": [
    "m1= f'My name is {username}'  # f-format depends on existing variables in memory\n",
    "print(m1)"
   ],
   "id": "409d71f4eab8aa0b",
   "outputs": [
    {
     "ename": "NameError",
     "evalue": "name 'username' is not defined",
     "output_type": "error",
     "traceback": [
      "\u001B[0;31m---------------------------------------------------------------------------\u001B[0m",
      "\u001B[0;31mNameError\u001B[0m                                 Traceback (most recent call last)",
      "Cell \u001B[0;32mIn[23], line 1\u001B[0m\n\u001B[0;32m----> 1\u001B[0m m1\u001B[38;5;241m=\u001B[39m \u001B[38;5;124mf\u001B[39m\u001B[38;5;124m'\u001B[39m\u001B[38;5;124mMy name is \u001B[39m\u001B[38;5;132;01m{\u001B[39;00m\u001B[43musername\u001B[49m\u001B[38;5;132;01m}\u001B[39;00m\u001B[38;5;124m'\u001B[39m\n\u001B[1;32m      2\u001B[0m \u001B[38;5;28mprint\u001B[39m(m1)\n",
      "\u001B[0;31mNameError\u001B[0m: name 'username' is not defined"
     ]
    }
   ],
   "execution_count": 23
  },
  {
   "metadata": {
    "ExecuteTime": {
     "end_time": "2024-05-20T09:26:12.579309Z",
     "start_time": "2024-05-20T09:26:12.575602Z"
    }
   },
   "cell_type": "code",
   "source": [
    "m2='My name is {username}'\n",
    "print(m2)"
   ],
   "id": "c8ca5cdb1a22a570",
   "outputs": [
    {
     "name": "stdout",
     "output_type": "stream",
     "text": [
      "My name is {username}\n"
     ]
    }
   ],
   "execution_count": 24
  },
  {
   "metadata": {
    "ExecuteTime": {
     "end_time": "2024-05-20T09:28:56.805667Z",
     "start_time": "2024-05-20T09:28:56.788114Z"
    }
   },
   "cell_type": "code",
   "source": [
    "age =31 \n",
    "name='test'\n",
    "bio = name +  age "
   ],
   "id": "afc265ba863af543",
   "outputs": [
    {
     "ename": "TypeError",
     "evalue": "can only concatenate str (not \"int\") to str",
     "output_type": "error",
     "traceback": [
      "\u001B[0;31m---------------------------------------------------------------------------\u001B[0m",
      "\u001B[0;31mTypeError\u001B[0m                                 Traceback (most recent call last)",
      "Cell \u001B[0;32mIn[25], line 3\u001B[0m\n\u001B[1;32m      1\u001B[0m age \u001B[38;5;241m=\u001B[39m\u001B[38;5;241m31\u001B[39m \n\u001B[1;32m      2\u001B[0m name\u001B[38;5;241m=\u001B[39m\u001B[38;5;124m'\u001B[39m\u001B[38;5;124mtest\u001B[39m\u001B[38;5;124m'\u001B[39m\n\u001B[0;32m----> 3\u001B[0m bio \u001B[38;5;241m=\u001B[39m \u001B[43mname\u001B[49m\u001B[43m \u001B[49m\u001B[38;5;241;43m+\u001B[39;49m\u001B[43m  \u001B[49m\u001B[43mage\u001B[49m \n",
      "\u001B[0;31mTypeError\u001B[0m: can only concatenate str (not \"int\") to str"
     ]
    }
   ],
   "execution_count": 25
  },
  {
   "metadata": {
    "ExecuteTime": {
     "end_time": "2024-05-20T09:29:30.983755Z",
     "start_time": "2024-05-20T09:29:30.980833Z"
    }
   },
   "cell_type": "code",
   "source": "bio = name ,  age ",
   "id": "d67d322ef28fcf2a",
   "outputs": [],
   "execution_count": 26
  },
  {
   "metadata": {
    "ExecuteTime": {
     "end_time": "2024-05-20T09:29:37.652409Z",
     "start_time": "2024-05-20T09:29:37.649083Z"
    }
   },
   "cell_type": "code",
   "source": [
    "bio\n",
    "print(bio)"
   ],
   "id": "d7e211b7e9e8393d",
   "outputs": [
    {
     "name": "stdout",
     "output_type": "stream",
     "text": [
      "('test', 31)\n"
     ]
    }
   ],
   "execution_count": 27
  },
  {
   "metadata": {},
   "cell_type": "markdown",
   "source": [
    "String is immutable datatype ?\n",
    "change string format "
   ],
   "id": "e9dfe7e2de7d22e8"
  },
  {
   "metadata": {
    "ExecuteTime": {
     "end_time": "2024-05-20T09:32:29.757481Z",
     "start_time": "2024-05-20T09:32:29.754013Z"
    }
   },
   "cell_type": "code",
   "source": [
    "print(msg)\n",
    "msg = msg.format(anynum='rrr', anycourse='33')\n",
    "print(msg)\n"
   ],
   "id": "b18b976caf02248c",
   "outputs": [
    {
     "name": "stdout",
     "output_type": "stream",
     "text": [
      "we have {anynum} students studies {anycourse} course\n",
      "we have rrr students studies 33 course\n"
     ]
    }
   ],
   "execution_count": 31
  },
  {
   "metadata": {},
   "cell_type": "markdown",
   "source": "",
   "id": "89607cc4d6bd0a44"
  },
  {
   "metadata": {},
   "cell_type": "markdown",
   "source": "changes on string ",
   "id": "a88e7045e6719ed2"
  },
  {
   "metadata": {
    "ExecuteTime": {
     "end_time": "2024-05-20T09:34:36.436017Z",
     "start_time": "2024-05-20T09:34:36.432493Z"
    }
   },
   "cell_type": "code",
   "source": [
    "fullname = 'noha abdelhady shehab'\n",
    "print(fullname.upper())"
   ],
   "id": "1410b50583c0be2c",
   "outputs": [
    {
     "name": "stdout",
     "output_type": "stream",
     "text": [
      "NOHA ABDELHADY SHEHAB\n"
     ]
    }
   ],
   "execution_count": 32
  },
  {
   "metadata": {
    "ExecuteTime": {
     "end_time": "2024-05-20T09:34:50.150213Z",
     "start_time": "2024-05-20T09:34:50.147073Z"
    }
   },
   "cell_type": "code",
   "source": "print(fullname.lower())",
   "id": "6f2fd2294b8169da",
   "outputs": [
    {
     "name": "stdout",
     "output_type": "stream",
     "text": [
      "noha abdelhady shehab\n"
     ]
    }
   ],
   "execution_count": 33
  },
  {
   "metadata": {
    "ExecuteTime": {
     "end_time": "2024-05-20T09:35:00.127637Z",
     "start_time": "2024-05-20T09:35:00.124397Z"
    }
   },
   "cell_type": "code",
   "source": "print(fullname.title())",
   "id": "45df38601b928e50",
   "outputs": [
    {
     "name": "stdout",
     "output_type": "stream",
     "text": [
      "Noha Abdelhady Shehab\n"
     ]
    }
   ],
   "execution_count": 34
  },
  {
   "metadata": {
    "ExecuteTime": {
     "end_time": "2024-05-20T09:35:13.824044Z",
     "start_time": "2024-05-20T09:35:13.818286Z"
    }
   },
   "cell_type": "code",
   "source": "print(fullname.capitalize())",
   "id": "96590823a5d80e90",
   "outputs": [
    {
     "name": "stdout",
     "output_type": "stream",
     "text": [
      "Noha abdelhady shehab\n"
     ]
    }
   ],
   "execution_count": 35
  },
  {
   "metadata": {},
   "cell_type": "markdown",
   "source": "strip string ",
   "id": "957b8eea1cec2112"
  },
  {
   "metadata": {
    "ExecuteTime": {
     "end_time": "2024-05-20T09:36:15.801217Z",
     "start_time": "2024-05-20T09:36:15.796558Z"
    }
   },
   "cell_type": "code",
   "source": [
    "message  =' we love python                         '\n",
    "print(len(message))"
   ],
   "id": "8894ed4bab2d8afe",
   "outputs": [
    {
     "name": "stdout",
     "output_type": "stream",
     "text": [
      "40\n"
     ]
    }
   ],
   "execution_count": 36
  },
  {
   "metadata": {
    "ExecuteTime": {
     "end_time": "2024-05-20T09:37:34.995414Z",
     "start_time": "2024-05-20T09:37:34.991907Z"
    }
   },
   "cell_type": "code",
   "source": [
    "res = message.strip()\n",
    "print(res, len(res))"
   ],
   "id": "e7af8fd7965fa13e",
   "outputs": [
    {
     "name": "stdout",
     "output_type": "stream",
     "text": [
      "we love python 14\n"
     ]
    }
   ],
   "execution_count": 37
  },
  {
   "metadata": {
    "ExecuteTime": {
     "end_time": "2024-05-20T09:38:22.888512Z",
     "start_time": "2024-05-20T09:38:22.884907Z"
    }
   },
   "cell_type": "code",
   "source": [
    "res2 = message.rstrip() # strip white spaces from right \n",
    "print(res2, len(res2))"
   ],
   "id": "88908e0be4c1780b",
   "outputs": [
    {
     "name": "stdout",
     "output_type": "stream",
     "text": [
      " we love python 15\n"
     ]
    }
   ],
   "execution_count": 38
  },
  {
   "metadata": {},
   "cell_type": "markdown",
   "source": "strip set of chars ??? ",
   "id": "52c8e51ea343c561"
  },
  {
   "metadata": {
    "ExecuteTime": {
     "end_time": "2024-05-20T09:40:03.422259Z",
     "start_time": "2024-05-20T09:40:03.419270Z"
    }
   },
   "cell_type": "code",
   "source": [
    "message = '@   we love python   @@'\n",
    "print(message.strip('@ nw')) # strip these chars from the beginning and the end of the string\n"
   ],
   "id": "b25e89aef4f988dd",
   "outputs": [
    {
     "name": "stdout",
     "output_type": "stream",
     "text": [
      "e love pytho\n"
     ]
    }
   ],
   "execution_count": 42
  },
  {
   "metadata": {},
   "cell_type": "markdown",
   "source": "replace part of the string",
   "id": "ff4c569bb1026de6"
  },
  {
   "metadata": {
    "ExecuteTime": {
     "end_time": "2024-05-20T09:41:57.267124Z",
     "start_time": "2024-05-20T09:41:57.262020Z"
    }
   },
   "cell_type": "code",
   "source": [
    "content = 'we love python o o o o'  # o---> @\n",
    "print(content.replace('o', '@',2)) # this returns with new string \n"
   ],
   "id": "70b77f14b2549460",
   "outputs": [
    {
     "name": "stdout",
     "output_type": "stream",
     "text": [
      "we l@ve pyth@n o o o o\n"
     ]
    }
   ],
   "execution_count": 45
  },
  {
   "metadata": {},
   "cell_type": "markdown",
   "source": "examine string content ",
   "id": "b2b4115f251e3aec"
  },
  {
   "metadata": {
    "ExecuteTime": {
     "end_time": "2024-05-20T09:42:42.215138Z",
     "start_time": "2024-05-20T09:42:42.210682Z"
    }
   },
   "cell_type": "code",
   "source": [
    "num = \"10\"\n",
    "num = int(num)  # it works because content of the string is numeric \n",
    "print(num, type(num))"
   ],
   "id": "d97a0db89507dea1",
   "outputs": [
    {
     "name": "stdout",
     "output_type": "stream",
     "text": [
      "10 <class 'int'>\n"
     ]
    }
   ],
   "execution_count": 46
  },
  {
   "metadata": {
    "ExecuteTime": {
     "end_time": "2024-05-20T09:43:19.724128Z",
     "start_time": "2024-05-20T09:43:19.709138Z"
    }
   },
   "cell_type": "code",
   "source": [
    "name = 'noha'\n",
    "name = int(name)  # raise runtime error"
   ],
   "id": "6d2e679ecd90da5e",
   "outputs": [
    {
     "ename": "ValueError",
     "evalue": "invalid literal for int() with base 10: 'noha'",
     "output_type": "error",
     "traceback": [
      "\u001B[0;31m---------------------------------------------------------------------------\u001B[0m",
      "\u001B[0;31mValueError\u001B[0m                                Traceback (most recent call last)",
      "Cell \u001B[0;32mIn[47], line 2\u001B[0m\n\u001B[1;32m      1\u001B[0m name \u001B[38;5;241m=\u001B[39m \u001B[38;5;124m'\u001B[39m\u001B[38;5;124mnoha\u001B[39m\u001B[38;5;124m'\u001B[39m\n\u001B[0;32m----> 2\u001B[0m name \u001B[38;5;241m=\u001B[39m \u001B[38;5;28;43mint\u001B[39;49m\u001B[43m(\u001B[49m\u001B[43mname\u001B[49m\u001B[43m)\u001B[49m  \u001B[38;5;66;03m# raise runtime error\u001B[39;00m\n",
      "\u001B[0;31mValueError\u001B[0m: invalid literal for int() with base 10: 'noha'"
     ]
    }
   ],
   "execution_count": 47
  },
  {
   "metadata": {},
   "cell_type": "code",
   "outputs": [],
   "execution_count": null,
   "source": "# check content of the string befor opertaion",
   "id": "cd62ee2fa6414344"
  },
  {
   "metadata": {},
   "cell_type": "markdown",
   "source": "make sure the string content consists of numbers only ",
   "id": "2df731d48f12ebb4"
  },
  {
   "metadata": {
    "ExecuteTime": {
     "end_time": "2024-05-20T09:46:13.831248Z",
     "start_time": "2024-05-20T09:46:13.827322Z"
    }
   },
   "cell_type": "code",
   "source": [
    "num = '89274'\n",
    "print(num.isdigit()) # return True if string consists of only numbers (integers) "
   ],
   "id": "daef33656e820db2",
   "outputs": [
    {
     "name": "stdout",
     "output_type": "stream",
     "text": [
      "True\n"
     ]
    }
   ],
   "execution_count": 51
  },
  {
   "metadata": {
    "ExecuteTime": {
     "end_time": "2024-05-20T09:46:15.094277Z",
     "start_time": "2024-05-20T09:46:15.090437Z"
    }
   },
   "cell_type": "code",
   "source": [
    "if num.isdigit():\n",
    "    num = int(num)\n",
    "    print(\"-- converted \")\n",
    "else:\n",
    "    print(\"--cannot convert it \")"
   ],
   "id": "ee525c5fee9f345b",
   "outputs": [
    {
     "name": "stdout",
     "output_type": "stream",
     "text": [
      "-- converted \n"
     ]
    }
   ],
   "execution_count": 52
  },
  {
   "metadata": {},
   "cell_type": "markdown",
   "source": "ask user to enter value ",
   "id": "3a1f450355f86c28"
  },
  {
   "metadata": {
    "ExecuteTime": {
     "end_time": "2024-05-20T09:46:59.412427Z",
     "start_time": "2024-05-20T09:46:56.240909Z"
    }
   },
   "cell_type": "code",
   "source": [
    "anyval = input('Enter any number/ value: ')   # always return with string \n",
    "print(anyval, type(anyval))"
   ],
   "id": "6dc8f7a2464796bc",
   "outputs": [
    {
     "name": "stdout",
     "output_type": "stream",
     "text": [
      "10 <class 'str'>\n"
     ]
    }
   ],
   "execution_count": 53
  },
  {
   "metadata": {},
   "cell_type": "markdown",
   "source": "check if string consists only from alphas [a---z]",
   "id": "2bb7f70aadee04df"
  },
  {
   "metadata": {
    "ExecuteTime": {
     "end_time": "2024-05-20T09:48:23.971689Z",
     "start_time": "2024-05-20T09:48:23.967928Z"
    }
   },
   "cell_type": "code",
   "source": [
    "name = 'ahmed10'\n",
    "print(name.isalpha())"
   ],
   "id": "e7efea298129cb46",
   "outputs": [
    {
     "name": "stdout",
     "output_type": "stream",
     "text": [
      "False\n"
     ]
    }
   ],
   "execution_count": 54
  },
  {
   "metadata": {
    "ExecuteTime": {
     "end_time": "2024-05-20T09:48:56.384929Z",
     "start_time": "2024-05-20T09:48:56.381682Z"
    }
   },
   "cell_type": "code",
   "source": [
    "name='noha shehab' # this string contains space \n",
    "print(name.isalpha())"
   ],
   "id": "39471a150d6545c9",
   "outputs": [
    {
     "name": "stdout",
     "output_type": "stream",
     "text": [
      "False\n"
     ]
    }
   ],
   "execution_count": 55
  },
  {
   "metadata": {},
   "cell_type": "markdown",
   "source": "NEVER TRUST USER INPUT",
   "id": "6fdbdb7b2a53a89f"
  },
  {
   "metadata": {
    "ExecuteTime": {
     "end_time": "2024-05-20T09:51:05.425976Z",
     "start_time": "2024-05-20T09:51:03.382010Z"
    }
   },
   "cell_type": "code",
   "source": [
    "anyval = int(input('Enter any number/ value: ')) # not accurate \n",
    "print(anyval, type(anyval))# always return with string \n"
   ],
   "id": "3531451cbbd2d39f",
   "outputs": [
    {
     "ename": "ValueError",
     "evalue": "invalid literal for int() with base 10: 'eee'",
     "output_type": "error",
     "traceback": [
      "\u001B[0;31m---------------------------------------------------------------------------\u001B[0m",
      "\u001B[0;31mValueError\u001B[0m                                Traceback (most recent call last)",
      "Cell \u001B[0;32mIn[59], line 1\u001B[0m\n\u001B[0;32m----> 1\u001B[0m anyval \u001B[38;5;241m=\u001B[39m \u001B[38;5;28;43mint\u001B[39;49m\u001B[43m(\u001B[49m\u001B[38;5;28;43minput\u001B[39;49m\u001B[43m(\u001B[49m\u001B[38;5;124;43m'\u001B[39;49m\u001B[38;5;124;43mEnter any number/ value: \u001B[39;49m\u001B[38;5;124;43m'\u001B[39;49m\u001B[43m)\u001B[49m\u001B[43m)\u001B[49m\n\u001B[1;32m      2\u001B[0m \u001B[38;5;28mprint\u001B[39m(anyval, \u001B[38;5;28mtype\u001B[39m(anyval))\u001B[38;5;66;03m# always return with string \u001B[39;00m\n",
      "\u001B[0;31mValueError\u001B[0m: invalid literal for int() with base 10: 'eee'"
     ]
    }
   ],
   "execution_count": 59
  },
  {
   "metadata": {},
   "cell_type": "code",
   "outputs": [],
   "execution_count": null,
   "source": [
    "num = input('Enter any number/ value: ')\n",
    "if num.isdigit():\n",
    "    num = int(num)\n",
    "    print(\"-- converted \")"
   ],
   "id": "af241753820bc1d1"
  },
  {
   "metadata": {},
   "cell_type": "markdown",
   "source": "check state of string ",
   "id": "37e0aafdbab42413"
  },
  {
   "metadata": {
    "ExecuteTime": {
     "end_time": "2024-05-20T09:53:33.015942Z",
     "start_time": "2024-05-20T09:53:33.012416Z"
    }
   },
   "cell_type": "code",
   "source": [
    "message ='iti'\n",
    "print(message.isupper())\n",
    "print(message.islower())\n",
    "print(message.isspace())\n",
    "print(message.istitle())"
   ],
   "id": "afb46895f703a899",
   "outputs": [
    {
     "name": "stdout",
     "output_type": "stream",
     "text": [
      "False\n",
      "True\n",
      "False\n",
      "False\n"
     ]
    }
   ],
   "execution_count": 60
  },
  {
   "metadata": {},
   "cell_type": "markdown",
   "source": "check if char exists in string  --> in operator ",
   "id": "dfb2f6b3a24c595d"
  },
  {
   "metadata": {
    "ExecuteTime": {
     "end_time": "2024-05-20T09:55:00.182080Z",
     "start_time": "2024-05-20T09:55:00.178245Z"
    }
   },
   "cell_type": "code",
   "source": [
    "name = 'noha'\n",
    "print('n' in name)"
   ],
   "id": "ad39fd717eae9770",
   "outputs": [
    {
     "name": "stdout",
     "output_type": "stream",
     "text": [
      "True\n"
     ]
    }
   ],
   "execution_count": 61
  },
  {
   "metadata": {},
   "cell_type": "markdown",
   "source": "loop over the string ",
   "id": "30508ae1a7fc4cf6"
  },
  {
   "metadata": {
    "ExecuteTime": {
     "end_time": "2024-05-20T09:55:56.401558Z",
     "start_time": "2024-05-20T09:55:56.398178Z"
    }
   },
   "cell_type": "code",
   "source": [
    "for char in 'noha':\n",
    "    print(char)"
   ],
   "id": "a8f48f412c2459d9",
   "outputs": [
    {
     "name": "stdout",
     "output_type": "stream",
     "text": [
      "n\n",
      "o\n",
      "h\n",
      "a\n"
     ]
    }
   ],
   "execution_count": 63
  },
  {
   "metadata": {},
   "cell_type": "raw",
   "source": [
    "\"noha ??? 2\"\n",
    "\n",
    "'noha' ??? ==?nh \n",
    "\n",
    "iti ---> 0 , 2 "
   ],
   "id": "e7452cdd08fc9e4a"
  }
 ],
 "metadata": {
  "kernelspec": {
   "display_name": "Python 3",
   "language": "python",
   "name": "python3"
  },
  "language_info": {
   "codemirror_mode": {
    "name": "ipython",
    "version": 2
   },
   "file_extension": ".py",
   "mimetype": "text/x-python",
   "name": "python",
   "nbconvert_exporter": "python",
   "pygments_lexer": "ipython2",
   "version": "2.7.6"
  }
 },
 "nbformat": 4,
 "nbformat_minor": 5
}
