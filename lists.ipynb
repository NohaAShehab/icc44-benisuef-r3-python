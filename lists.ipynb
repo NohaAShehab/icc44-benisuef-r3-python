{
 "cells": [
  {
   "metadata": {},
   "cell_type": "markdown",
   "source": "1- define a list ",
   "id": "9907252559690ad3"
  },
  {
   "cell_type": "code",
   "id": "initial_id",
   "metadata": {
    "collapsed": true,
    "ExecuteTime": {
     "end_time": "2024-05-21T06:59:48.274067Z",
     "start_time": "2024-05-21T06:59:48.262202Z"
    }
   },
   "source": [
    "myl = []\n",
    "myl2=  ['ahmed',34, 33.33, 'iti',True, None, 'iti', ['python', 'sql', 'powerbi']]"
   ],
   "outputs": [],
   "execution_count": 1
  },
  {
   "metadata": {},
   "cell_type": "markdown",
   "source": "get len of list",
   "id": "acd8a5ed5251ba07"
  },
  {
   "metadata": {
    "ExecuteTime": {
     "end_time": "2024-05-21T07:03:53.431747Z",
     "start_time": "2024-05-21T07:03:53.427017Z"
    }
   },
   "cell_type": "code",
   "source": "print(len(myl2))",
   "id": "f869f1c9e31b84c0",
   "outputs": [
    {
     "name": "stdout",
     "output_type": "stream",
     "text": [
      "8\n"
     ]
    }
   ],
   "execution_count": 3
  },
  {
   "metadata": {},
   "cell_type": "markdown",
   "source": "count element occurrence in the list",
   "id": "3efadbba1f2436da"
  },
  {
   "metadata": {
    "ExecuteTime": {
     "end_time": "2024-05-21T07:04:22.306185Z",
     "start_time": "2024-05-21T07:04:22.302372Z"
    }
   },
   "cell_type": "code",
   "source": "print(myl2.count('iti'))",
   "id": "50fd7762ff1a5d8d",
   "outputs": [
    {
     "name": "stdout",
     "output_type": "stream",
     "text": [
      "2\n"
     ]
    }
   ],
   "execution_count": 4
  },
  {
   "metadata": {},
   "cell_type": "markdown",
   "source": "get index of element",
   "id": "f727a406377200c8"
  },
  {
   "metadata": {
    "ExecuteTime": {
     "end_time": "2024-05-21T07:04:48.107410Z",
     "start_time": "2024-05-21T07:04:48.103853Z"
    }
   },
   "cell_type": "code",
   "source": "print(myl2.index('iti'))",
   "id": "eddc8dd102fe88a8",
   "outputs": [
    {
     "name": "stdout",
     "output_type": "stream",
     "text": [
      "3\n"
     ]
    }
   ],
   "execution_count": 5
  },
  {
   "metadata": {},
   "cell_type": "markdown",
   "source": "list is iterable ",
   "id": "d1d4b13633a5841d"
  },
  {
   "metadata": {
    "ExecuteTime": {
     "end_time": "2024-05-21T07:06:23.271020Z",
     "start_time": "2024-05-21T07:06:23.266560Z"
    }
   },
   "cell_type": "code",
   "source": [
    "for abbass in myl2:\n",
    "    print(f\"item = {abbass}\")"
   ],
   "id": "a621253e21c95e2c",
   "outputs": [
    {
     "name": "stdout",
     "output_type": "stream",
     "text": [
      "item = ahmed\n",
      "item = 34\n",
      "item = 33.33\n",
      "item = iti\n",
      "item = True\n",
      "item = None\n",
      "item = iti\n",
      "item = ['python', 'sql', 'powerbi']\n"
     ]
    }
   ],
   "execution_count": 7
  },
  {
   "metadata": {},
   "cell_type": "markdown",
   "source": "slicing list ",
   "id": "6f868a53906aac75"
  },
  {
   "metadata": {
    "ExecuteTime": {
     "end_time": "2024-05-21T07:07:10.786829Z",
     "start_time": "2024-05-21T07:07:10.782517Z"
    }
   },
   "cell_type": "code",
   "source": "print(myl2[2])",
   "id": "44b5772174f4c0ca",
   "outputs": [
    {
     "name": "stdout",
     "output_type": "stream",
     "text": [
      "33.33\n"
     ]
    }
   ],
   "execution_count": 8
  },
  {
   "metadata": {
    "ExecuteTime": {
     "end_time": "2024-05-21T07:07:25.898368Z",
     "start_time": "2024-05-21T07:07:25.894124Z"
    }
   },
   "cell_type": "code",
   "source": "print(myl2[3:])",
   "id": "e813bea8b056bed",
   "outputs": [
    {
     "name": "stdout",
     "output_type": "stream",
     "text": [
      "['iti', True, None, 'iti', ['python', 'sql', 'powerbi']]\n"
     ]
    }
   ],
   "execution_count": 9
  },
  {
   "metadata": {
    "ExecuteTime": {
     "end_time": "2024-05-21T07:11:40.270418Z",
     "start_time": "2024-05-21T07:11:40.265603Z"
    }
   },
   "cell_type": "code",
   "source": "print(myl2[::2])",
   "id": "9090910760eff781",
   "outputs": [
    {
     "name": "stdout",
     "output_type": "stream",
     "text": [
      "['ahmed', 33.33, True, 'iti']\n"
     ]
    }
   ],
   "execution_count": 12
  },
  {
   "metadata": {},
   "cell_type": "markdown",
   "source": "check if element exists in list or not ",
   "id": "7e86a1a53c1f14f6"
  },
  {
   "metadata": {
    "ExecuteTime": {
     "end_time": "2024-05-21T07:10:23.736333Z",
     "start_time": "2024-05-21T07:10:23.732691Z"
    }
   },
   "cell_type": "code",
   "source": "print('noha' in myl2)",
   "id": "8d297a57ab71ce18",
   "outputs": [
    {
     "name": "stdout",
     "output_type": "stream",
     "text": [
      "False\n"
     ]
    }
   ],
   "execution_count": 11
  },
  {
   "metadata": {},
   "cell_type": "markdown",
   "source": [
    "can I update list content ?? \n",
    "Yes --> list is mutable data ==> its content can be changed after creation"
   ],
   "id": "faac58b727506dd3"
  },
  {
   "metadata": {
    "ExecuteTime": {
     "end_time": "2024-05-21T07:13:49.426781Z",
     "start_time": "2024-05-21T07:13:49.422579Z"
    }
   },
   "cell_type": "code",
   "source": "print(myl2[1])",
   "id": "9c32852d61b148f0",
   "outputs": [
    {
     "name": "stdout",
     "output_type": "stream",
     "text": [
      "34\n"
     ]
    }
   ],
   "execution_count": 13
  },
  {
   "metadata": {
    "ExecuteTime": {
     "end_time": "2024-05-21T07:14:11.879301Z",
     "start_time": "2024-05-21T07:14:11.874941Z"
    }
   },
   "cell_type": "code",
   "source": [
    "print(myl2)\n",
    "myl2[1]='updated'\n",
    "print(myl2)"
   ],
   "id": "90a0e2aa50cc4c86",
   "outputs": [
    {
     "name": "stdout",
     "output_type": "stream",
     "text": [
      "['ahmed', 34, 33.33, 'iti', True, None, 'iti', ['python', 'sql', 'powerbi']]\n",
      "['ahmed', 'updated', 33.33, 'iti', True, None, 'iti', ['python', 'sql', 'powerbi']]\n"
     ]
    }
   ],
   "execution_count": 14
  },
  {
   "metadata": {
    "ExecuteTime": {
     "end_time": "2024-05-21T07:15:02.230759Z",
     "start_time": "2024-05-21T07:15:02.033097Z"
    }
   },
   "cell_type": "code",
   "source": "myl2[100]='new element'",
   "id": "e392fbf456b4c76c",
   "outputs": [
    {
     "ename": "IndexError",
     "evalue": "list assignment index out of range",
     "output_type": "error",
     "traceback": [
      "\u001B[0;31m---------------------------------------------------------------------------\u001B[0m",
      "\u001B[0;31mIndexError\u001B[0m                                Traceback (most recent call last)",
      "Cell \u001B[0;32mIn[15], line 1\u001B[0m\n\u001B[0;32m----> 1\u001B[0m \u001B[43mmyl2\u001B[49m\u001B[43m[\u001B[49m\u001B[38;5;241;43m100\u001B[39;49m\u001B[43m]\u001B[49m\u001B[38;5;241m=\u001B[39m\u001B[38;5;124m'\u001B[39m\u001B[38;5;124mnew element\u001B[39m\u001B[38;5;124m'\u001B[39m\n",
      "\u001B[0;31mIndexError\u001B[0m: list assignment index out of range"
     ]
    }
   ],
   "execution_count": 15
  },
  {
   "metadata": {},
   "cell_type": "markdown",
   "source": "append/ insert element to the list ",
   "id": "c0338974f43d0440"
  },
  {
   "metadata": {
    "ExecuteTime": {
     "end_time": "2024-05-21T07:16:24.263451Z",
     "start_time": "2024-05-21T07:16:24.256742Z"
    }
   },
   "cell_type": "code",
   "source": [
    "myl2.append('powerbi-track')\n",
    "print(myl2)"
   ],
   "id": "960396ef3f9c2151",
   "outputs": [
    {
     "name": "stdout",
     "output_type": "stream",
     "text": [
      "['ahmed', 'updated', 33.33, 'iti', True, None, 'iti', ['python', 'sql', 'powerbi'], 'powerbi-track']\n"
     ]
    }
   ],
   "execution_count": 16
  },
  {
   "metadata": {
    "ExecuteTime": {
     "end_time": "2024-05-21T07:18:07.503862Z",
     "start_time": "2024-05-21T07:18:07.499481Z"
    }
   },
   "cell_type": "code",
   "source": [
    "myl2.insert(2,'new element')\n",
    "print(myl2)\n",
    " \n",
    "myl2.insert(200,'new element')\n",
    "print(myl2)"
   ],
   "id": "85aa8ead31e51f34",
   "outputs": [
    {
     "name": "stdout",
     "output_type": "stream",
     "text": [
      "['ahmed', 'updated', 'new element', 'new element', 33.33, 'iti', True, None, 'iti', ['python', 'sql', 'powerbi'], 'powerbi-track']\n",
      "['ahmed', 'updated', 'new element', 'new element', 33.33, 'iti', True, None, 'iti', ['python', 'sql', 'powerbi'], 'powerbi-track', 'new element']\n"
     ]
    }
   ],
   "execution_count": 18
  },
  {
   "metadata": {},
   "cell_type": "markdown",
   "source": "pop and remove from list",
   "id": "64d5acb3cfe6820a"
  },
  {
   "metadata": {},
   "cell_type": "markdown",
   "source": "remove element /// pop",
   "id": "4e89a3160947d40b"
  },
  {
   "metadata": {
    "ExecuteTime": {
     "end_time": "2024-05-21T07:22:35.147986Z",
     "start_time": "2024-05-21T07:22:35.144202Z"
    }
   },
   "cell_type": "code",
   "source": [
    "myelement = myl2.pop()\n",
    "print(myelement)\n",
    "print(myl2)"
   ],
   "id": "2b622b91e858d921",
   "outputs": [
    {
     "name": "stdout",
     "output_type": "stream",
     "text": [
      "new element\n",
      "['ahmed', 'updated', 'new element', 'new element', 33.33, 'iti', True, None, 'iti', ['python', 'sql', 'powerbi'], 'powerbi-track']\n"
     ]
    }
   ],
   "execution_count": 19
  },
  {
   "metadata": {},
   "cell_type": "markdown",
   "source": "pop item at index ",
   "id": "ce32c3bff693a278"
  },
  {
   "metadata": {
    "ExecuteTime": {
     "end_time": "2024-05-21T07:23:59.141962Z",
     "start_time": "2024-05-21T07:23:59.137831Z"
    }
   },
   "cell_type": "code",
   "source": [
    "\n",
    "popped_item = myl2.pop(3)\n",
    "print(popped_item)\n",
    "print(myl2)"
   ],
   "id": "a1818d4995a22789",
   "outputs": [
    {
     "name": "stdout",
     "output_type": "stream",
     "text": [
      "new element\n",
      "['ahmed', 'updated', 'new element', 33.33, 'iti', True, None, 'iti', ['python', 'sql', 'powerbi'], 'powerbi-track']\n"
     ]
    }
   ],
   "execution_count": 20
  },
  {
   "metadata": {
    "ExecuteTime": {
     "end_time": "2024-05-21T07:24:43.601152Z",
     "start_time": "2024-05-21T07:24:43.586989Z"
    }
   },
   "cell_type": "code",
   "source": "print(myl2.pop(100))",
   "id": "f78779f4fd88e1fa",
   "outputs": [
    {
     "ename": "IndexError",
     "evalue": "pop index out of range",
     "output_type": "error",
     "traceback": [
      "\u001B[0;31m---------------------------------------------------------------------------\u001B[0m",
      "\u001B[0;31mIndexError\u001B[0m                                Traceback (most recent call last)",
      "Cell \u001B[0;32mIn[21], line 1\u001B[0m\n\u001B[0;32m----> 1\u001B[0m \u001B[38;5;28mprint\u001B[39m(\u001B[43mmyl2\u001B[49m\u001B[38;5;241;43m.\u001B[39;49m\u001B[43mpop\u001B[49m\u001B[43m(\u001B[49m\u001B[38;5;241;43m100\u001B[39;49m\u001B[43m)\u001B[49m)\n",
      "\u001B[0;31mIndexError\u001B[0m: pop index out of range"
     ]
    }
   ],
   "execution_count": 21
  },
  {
   "metadata": {},
   "cell_type": "markdown",
   "source": "remove specific element",
   "id": "b5d07887b2a728ce"
  },
  {
   "metadata": {
    "ExecuteTime": {
     "end_time": "2024-05-21T07:26:12.851704Z",
     "start_time": "2024-05-21T07:26:12.848592Z"
    }
   },
   "cell_type": "code",
   "source": [
    "myl2.remove('iti')\n",
    "print(myl2)"
   ],
   "id": "a6557b97b5eee4a8",
   "outputs": [
    {
     "name": "stdout",
     "output_type": "stream",
     "text": [
      "['ahmed', 'updated', 'new element', 33.33, True, None, 'iti', ['python', 'sql', 'powerbi'], 'powerbi-track']\n"
     ]
    }
   ],
   "execution_count": 22
  },
  {
   "metadata": {
    "ExecuteTime": {
     "end_time": "2024-05-21T07:29:31.304458Z",
     "start_time": "2024-05-21T07:29:31.300588Z"
    }
   },
   "cell_type": "code",
   "source": "print(myl2[7])\n",
   "id": "eab748941730f908",
   "outputs": [
    {
     "name": "stdout",
     "output_type": "stream",
     "text": [
      "['python', 'sql', 'powerbi']\n"
     ]
    }
   ],
   "execution_count": 23
  },
  {
   "metadata": {
    "ExecuteTime": {
     "end_time": "2024-05-21T07:29:46.408661Z",
     "start_time": "2024-05-21T07:29:46.404227Z"
    }
   },
   "cell_type": "code",
   "source": "print(myl2[7].pop())",
   "id": "716815f309e12a59",
   "outputs": [
    {
     "name": "stdout",
     "output_type": "stream",
     "text": [
      "powerbi\n"
     ]
    }
   ],
   "execution_count": 24
  },
  {
   "metadata": {
    "ExecuteTime": {
     "end_time": "2024-05-21T07:29:56.360945Z",
     "start_time": "2024-05-21T07:29:56.354721Z"
    }
   },
   "cell_type": "code",
   "source": "print(myl2)",
   "id": "b6240996cc022087",
   "outputs": [
    {
     "name": "stdout",
     "output_type": "stream",
     "text": [
      "['ahmed', 'updated', 'new element', 33.33, True, None, 'iti', ['python', 'sql'], 'powerbi-track']\n"
     ]
    }
   ],
   "execution_count": 25
  },
  {
   "metadata": {
    "ExecuteTime": {
     "end_time": "2024-05-21T07:30:49.219692Z",
     "start_time": "2024-05-21T07:30:49.215789Z"
    }
   },
   "cell_type": "code",
   "source": "print(myl2[7][0])",
   "id": "8cfb73eebf8be8d7",
   "outputs": [
    {
     "name": "stdout",
     "output_type": "stream",
     "text": [
      "python\n"
     ]
    }
   ],
   "execution_count": 26
  },
  {
   "metadata": {
    "ExecuteTime": {
     "end_time": "2024-05-21T07:33:57.945538Z",
     "start_time": "2024-05-21T07:33:57.941789Z"
    }
   },
   "cell_type": "code",
   "source": [
    "myll= [[2,3,4],[5,56,6], [55,6,65]]\n",
    "print(myll[1][1])"
   ],
   "id": "f5fa0a3475065a5d",
   "outputs": [
    {
     "name": "stdout",
     "output_type": "stream",
     "text": [
      "56\n"
     ]
    }
   ],
   "execution_count": 27
  },
  {
   "metadata": {},
   "cell_type": "markdown",
   "source": [
    "list is mutable datatype \n",
    "-> concat"
   ],
   "id": "c86e4e46175500d3"
  },
  {
   "metadata": {
    "ExecuteTime": {
     "end_time": "2024-05-21T08:07:53.975713Z",
     "start_time": "2024-05-21T08:07:53.971518Z"
    }
   },
   "cell_type": "code",
   "source": [
    "l1= ['sql','python', 'powerbi' ]\n",
    "l2  =['presentation skills', 'interview skills', 'communication skills', 'freelance']\n",
    "\n",
    "l3 = l1 + l2 # new list \n",
    "print(l3)"
   ],
   "id": "bedac5ffb8f7a422",
   "outputs": [
    {
     "name": "stdout",
     "output_type": "stream",
     "text": [
      "['sql', 'python', 'powerbi', 'presentation skills', 'interview skills', 'communication skills', 'freelance']\n"
     ]
    }
   ],
   "execution_count": 28
  },
  {
   "metadata": {},
   "cell_type": "markdown",
   "source": "extend a list ",
   "id": "4facecd0a8e25328"
  },
  {
   "metadata": {
    "ExecuteTime": {
     "end_time": "2024-05-21T08:08:40.170266Z",
     "start_time": "2024-05-21T08:08:40.166722Z"
    }
   },
   "cell_type": "code",
   "source": [
    "l1.extend(l2)\n",
    "print(l1)\n",
    "print(l2)"
   ],
   "id": "f1a93c2960ef0374",
   "outputs": [
    {
     "name": "stdout",
     "output_type": "stream",
     "text": [
      "['sql', 'python', 'powerbi', 'presentation skills', 'interview skills', 'communication skills', 'freelance']\n",
      "['presentation skills', 'interview skills', 'communication skills', 'freelance']\n"
     ]
    }
   ],
   "execution_count": 29
  },
  {
   "metadata": {},
   "cell_type": "raw",
   "source": "sort list elements ? --> list elements must be from the same type ",
   "id": "6cbaebc9817cd6d0"
  },
  {
   "metadata": {
    "ExecuteTime": {
     "end_time": "2024-05-21T08:11:17.227373Z",
     "start_time": "2024-05-21T08:11:17.223987Z"
    }
   },
   "cell_type": "code",
   "source": [
    "print(l3)\n",
    "l3.sort()  # sort elements in the same list \n",
    "print(l3)"
   ],
   "id": "55598613e75edb0",
   "outputs": [
    {
     "name": "stdout",
     "output_type": "stream",
     "text": [
      "['sql', 'python', 'powerbi', 'presentation skills', 'interview skills', 'communication skills', 'freelance']\n",
      "['communication skills', 'freelance', 'interview skills', 'powerbi', 'presentation skills', 'python', 'sql']\n"
     ]
    }
   ],
   "execution_count": 30
  },
  {
   "metadata": {
    "ExecuteTime": {
     "end_time": "2024-05-21T08:13:29.148359Z",
     "start_time": "2024-05-21T08:13:29.141933Z"
    }
   },
   "cell_type": "code",
   "source": [
    "# sort l1 --?  descending \n",
    "print(l1)\n",
    "l1.sort(reverse=True)\n",
    "print(l1)"
   ],
   "id": "78e2ef780eed0592",
   "outputs": [
    {
     "name": "stdout",
     "output_type": "stream",
     "text": [
      "['sql', 'python', 'powerbi', 'presentation skills', 'interview skills', 'communication skills', 'freelance']\n",
      "['sql', 'python', 'presentation skills', 'powerbi', 'interview skills', 'freelance', 'communication skills']\n"
     ]
    }
   ],
   "execution_count": 31
  },
  {
   "metadata": {},
   "cell_type": "markdown",
   "source": "reverse a list",
   "id": "5b179e11fe70b4e7"
  },
  {
   "metadata": {
    "ExecuteTime": {
     "end_time": "2024-05-21T08:15:01.114835Z",
     "start_time": "2024-05-21T08:15:01.111667Z"
    }
   },
   "cell_type": "code",
   "source": [
    "print(myl2)\n",
    "myl2.reverse()\n",
    "print(myl2)"
   ],
   "id": "3e2d97c89228b480",
   "outputs": [
    {
     "name": "stdout",
     "output_type": "stream",
     "text": [
      "['ahmed', 'updated', 'new element', 33.33, True, None, 'iti', ['python', 'sql'], 'powerbi-track']\n",
      "['powerbi-track', ['python', 'sql'], 'iti', None, True, 33.33, 'new element', 'updated', 'ahmed']\n"
     ]
    }
   ],
   "execution_count": 32
  },
  {
   "metadata": {},
   "cell_type": "raw",
   "source": "print element and its index in the list ??",
   "id": "6aead7526ba4bbcf"
  },
  {
   "metadata": {
    "ExecuteTime": {
     "end_time": "2024-05-21T08:16:19.937322Z",
     "start_time": "2024-05-21T08:16:19.933645Z"
    }
   },
   "cell_type": "code",
   "source": [
    "counter= 0\n",
    "for item_ in myl2:\n",
    "    print(f\"index={counter}, item={item_}\")\n",
    "    counter+=1\n",
    "    "
   ],
   "id": "42b83ceeb3da03fd",
   "outputs": [
    {
     "name": "stdout",
     "output_type": "stream",
     "text": [
      "index=0, item=powerbi-track\n",
      "index=1, item=['python', 'sql']\n",
      "index=2, item=iti\n",
      "index=3, item=None\n",
      "index=4, item=True\n",
      "index=5, item=33.33\n",
      "index=6, item=new element\n",
      "index=7, item=updated\n",
      "index=8, item=ahmed\n"
     ]
    }
   ],
   "execution_count": 33
  },
  {
   "metadata": {},
   "cell_type": "markdown",
   "source": [
    "use enumerate function ??\n",
    "generate index for iterable --> list "
   ],
   "id": "906724789baf434"
  },
  {
   "metadata": {
    "ExecuteTime": {
     "end_time": "2024-05-21T08:17:11.094356Z",
     "start_time": "2024-05-21T08:17:11.090115Z"
    }
   },
   "cell_type": "code",
   "source": [
    "myl2_enum = enumerate(myl2)\n",
    "print(myl2_enum) # this is an iterable object (index, item)"
   ],
   "id": "9887e483e2ca059a",
   "outputs": [
    {
     "name": "stdout",
     "output_type": "stream",
     "text": [
      "<enumerate object at 0x73f09ede9a30>\n"
     ]
    }
   ],
   "execution_count": 34
  },
  {
   "metadata": {
    "ExecuteTime": {
     "end_time": "2024-05-21T08:18:19.426446Z",
     "start_time": "2024-05-21T08:18:19.422768Z"
    }
   },
   "cell_type": "code",
   "source": [
    "for item_index, value in myl2_enum:\n",
    "    print(f\"{item_index}: {value}\")"
   ],
   "id": "c452f46952cedb02",
   "outputs": [
    {
     "name": "stdout",
     "output_type": "stream",
     "text": [
      "0: powerbi-track\n",
      "1: ['python', 'sql']\n",
      "2: iti\n",
      "3: None\n",
      "4: True\n",
      "5: 33.33\n",
      "6: new element\n",
      "7: updated\n",
      "8: ahmed\n"
     ]
    }
   ],
   "execution_count": 35
  },
  {
   "metadata": {
    "ExecuteTime": {
     "end_time": "2024-05-21T08:22:23.365226Z",
     "start_time": "2024-05-21T08:22:23.361047Z"
    }
   },
   "cell_type": "code",
   "source": [
    "myl2.append('python')\n",
    "myl2.insert(3,'python')\n",
    "print(myl2)"
   ],
   "id": "ecb221108c706677",
   "outputs": [
    {
     "name": "stdout",
     "output_type": "stream",
     "text": [
      "['powerbi-track', ['python', 'sql'], 'iti', 'python', None, True, 33.33, 'new element', 'updated', 'ahmed', 'python']\n"
     ]
    }
   ],
   "execution_count": 36
  },
  {
   "metadata": {
    "ExecuteTime": {
     "end_time": "2024-05-21T08:22:46.207563Z",
     "start_time": "2024-05-21T08:22:46.203755Z"
    }
   },
   "cell_type": "code",
   "source": [
    "for i , v in enumerate(myl2):\n",
    "    if v=='python':\n",
    "        print(i)"
   ],
   "id": "72499c235059541",
   "outputs": [
    {
     "name": "stdout",
     "output_type": "stream",
     "text": [
      "3\n",
      "10\n"
     ]
    }
   ],
   "execution_count": 37
  },
  {
   "metadata": {},
   "cell_type": "markdown",
   "source": "enumerate with string ",
   "id": "1ebe2f6d45e1fd16"
  },
  {
   "metadata": {
    "ExecuteTime": {
     "end_time": "2024-05-21T08:23:45.853964Z",
     "start_time": "2024-05-21T08:23:45.849816Z"
    }
   },
   "cell_type": "code",
   "source": [
    "mystring = 'hello world'\n",
    "for index, item in enumerate(mystring):\n",
    "    print(f'index={index}, item={item}')"
   ],
   "id": "4cbe802b378f61a4",
   "outputs": [
    {
     "name": "stdout",
     "output_type": "stream",
     "text": [
      "index=0, item=h\n",
      "index=1, item=e\n",
      "index=2, item=l\n",
      "index=3, item=l\n",
      "index=4, item=o\n",
      "index=5, item= \n",
      "index=6, item=w\n",
      "index=7, item=o\n",
      "index=8, item=r\n",
      "index=9, item=l\n",
      "index=10, item=d\n"
     ]
    }
   ],
   "execution_count": 38
  },
  {
   "metadata": {},
   "cell_type": "markdown",
   "source": "cast string to a list ",
   "id": "a53fd994a7ae13c3"
  },
  {
   "metadata": {
    "ExecuteTime": {
     "end_time": "2024-05-21T08:29:00.870512Z",
     "start_time": "2024-05-21T08:29:00.866955Z"
    }
   },
   "cell_type": "code",
   "source": [
    "message  = 'hello from ghaza'\n",
    "message = list(message)\n",
    "print(message)"
   ],
   "id": "27c46f799063dc12",
   "outputs": [
    {
     "name": "stdout",
     "output_type": "stream",
     "text": [
      "['h', 'e', 'l', 'l', 'o', ' ', 'f', 'r', 'o', 'm', ' ', 'g', 'h', 'a', 'z', 'a']\n"
     ]
    }
   ],
   "execution_count": 39
  },
  {
   "metadata": {},
   "cell_type": "markdown",
   "source": "split string to a list ",
   "id": "65e3d972e10dac95"
  },
  {
   "metadata": {
    "ExecuteTime": {
     "end_time": "2024-05-21T08:30:01.332840Z",
     "start_time": "2024-05-21T08:30:01.326689Z"
    }
   },
   "cell_type": "code",
   "source": [
    "message  = 'hello from ghaza'\n",
    "words = message.split(' ')\n",
    "print(words)\n"
   ],
   "id": "509eb4fc41c0d5e7",
   "outputs": [
    {
     "name": "stdout",
     "output_type": "stream",
     "text": [
      "['hello', 'from', 'ghaza']\n"
     ]
    }
   ],
   "execution_count": 41
  },
  {
   "metadata": {},
   "cell_type": "markdown",
   "source": "join list elements to one string  --> all list elements must be strings ",
   "id": "f94d03044bc9ec10"
  },
  {
   "metadata": {
    "ExecuteTime": {
     "end_time": "2024-05-21T08:31:33.784043Z",
     "start_time": "2024-05-21T08:31:33.780124Z"
    }
   },
   "cell_type": "code",
   "source": [
    "mylist = ['we', 'love', 'python']\n",
    "myword = '_'.join(mylist)\n",
    "print(myword, type(myword))"
   ],
   "id": "68a59470b6f5e5ad",
   "outputs": [
    {
     "name": "stdout",
     "output_type": "stream",
     "text": [
      "we_love_python <class 'str'>\n"
     ]
    }
   ],
   "execution_count": 43
  },
  {
   "metadata": {},
   "cell_type": "code",
   "outputs": [],
   "execution_count": null,
   "source": "",
   "id": "e4ea92e7157b02ad"
  }
 ],
 "metadata": {
  "kernelspec": {
   "display_name": "Python 3",
   "language": "python",
   "name": "python3"
  },
  "language_info": {
   "codemirror_mode": {
    "name": "ipython",
    "version": 2
   },
   "file_extension": ".py",
   "mimetype": "text/x-python",
   "name": "python",
   "nbconvert_exporter": "python",
   "pygments_lexer": "ipython2",
   "version": "2.7.6"
  }
 },
 "nbformat": 4,
 "nbformat_minor": 5
}
