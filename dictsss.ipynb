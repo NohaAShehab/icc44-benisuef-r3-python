{
 "cells": [
  {
   "metadata": {},
   "cell_type": "markdown",
   "source": "",
   "id": "8d3eed42d887259d"
  },
  {
   "cell_type": "code",
   "id": "initial_id",
   "metadata": {
    "collapsed": true,
    "ExecuteTime": {
     "end_time": "2024-05-21T09:10:38.756181Z",
     "start_time": "2024-05-21T09:10:38.748304Z"
    }
   },
   "source": [
    "info = ['noha', 'iti', 'cairo', 31]\n",
    "# unlabeled data \n",
    "print(info)"
   ],
   "outputs": [
    {
     "name": "stdout",
     "output_type": "stream",
     "text": [
      "['noha', 'iti', 'cairo', 31]\n"
     ]
    }
   ],
   "execution_count": 1
  },
  {
   "metadata": {},
   "cell_type": "markdown",
   "source": "we need datatype --> labeled data ",
   "id": "60ecb7dd44b6211a"
  },
  {
   "metadata": {
    "ExecuteTime": {
     "end_time": "2024-05-21T09:12:04.193431Z",
     "start_time": "2024-05-21T09:12:04.189788Z"
    }
   },
   "cell_type": "code",
   "source": [
    "myd = {}\n",
    "myd1 = dict()"
   ],
   "id": "19f8601a8562552e",
   "outputs": [],
   "execution_count": 2
  },
  {
   "metadata": {},
   "cell_type": "markdown",
   "source": [
    "dict comma-seperated key:value pair\n",
    "dict is mutable datatype ---> doesn't allow key-duplication \n",
    "from python3.7 dict is ordered datatype "
   ],
   "id": "ebdbe36e3f34935f"
  },
  {
   "metadata": {
    "ExecuteTime": {
     "end_time": "2024-05-21T09:14:30.309288Z",
     "start_time": "2024-05-21T09:14:30.304922Z"
    }
   },
   "cell_type": "code",
   "source": [
    "myinfo = {'name':'noha', \n",
    "          'age':31, 'city':'cairo', 'work': 'iti'}\n",
    "print(myinfo)"
   ],
   "id": "fc2ab6f3217d5cba",
   "outputs": [
    {
     "name": "stdout",
     "output_type": "stream",
     "text": [
      "{'name': 'noha', 'age': 31, 'city': 'cairo', 'work': 'iti'}\n"
     ]
    }
   ],
   "execution_count": 3
  },
  {
   "metadata": {},
   "cell_type": "markdown",
   "source": "get value from dict ",
   "id": "3ecc1e64594c4c95"
  },
  {
   "metadata": {
    "ExecuteTime": {
     "end_time": "2024-05-21T09:15:41.285230Z",
     "start_time": "2024-05-21T09:15:41.279455Z"
    }
   },
   "cell_type": "code",
   "source": "print(myinfo['name'])",
   "id": "957077ee4debf193",
   "outputs": [
    {
     "name": "stdout",
     "output_type": "stream",
     "text": [
      "noha\n"
     ]
    }
   ],
   "execution_count": 4
  },
  {
   "metadata": {},
   "cell_type": "markdown",
   "source": "modify value of name",
   "id": "d90978ed7854f4a7"
  },
  {
   "metadata": {
    "ExecuteTime": {
     "end_time": "2024-05-21T09:16:05.334570Z",
     "start_time": "2024-05-21T09:16:05.319326Z"
    }
   },
   "cell_type": "code",
   "source": [
    "myinfo['name']='Noha Shehab'\n",
    "print(myinfo)"
   ],
   "id": "dac069d074fbd397",
   "outputs": [
    {
     "name": "stdout",
     "output_type": "stream",
     "text": [
      "{'name': 'Noha Shehab', 'age': 31, 'city': 'cairo', 'work': 'iti'}\n"
     ]
    }
   ],
   "execution_count": 5
  },
  {
   "metadata": {
    "ExecuteTime": {
     "end_time": "2024-05-21T09:16:42.977413Z",
     "start_time": "2024-05-21T09:16:42.972883Z"
    }
   },
   "cell_type": "code",
   "source": [
    "myinfo['currentcourse']='python' # key doesn't exist --> add it to the dict \n",
    "print(myinfo)"
   ],
   "id": "379c8a3a70c023f4",
   "outputs": [
    {
     "name": "stdout",
     "output_type": "stream",
     "text": [
      "{'name': 'Noha Shehab', 'age': 31, 'city': 'cairo', 'work': 'iti', 'currentcourse': 'python'}\n"
     ]
    }
   ],
   "execution_count": 6
  },
  {
   "metadata": {},
   "cell_type": "markdown",
   "source": "get no_of_key value pairs ",
   "id": "add61d0fa6057709"
  },
  {
   "metadata": {
    "ExecuteTime": {
     "end_time": "2024-05-21T09:17:36.565807Z",
     "start_time": "2024-05-21T09:17:36.561179Z"
    }
   },
   "cell_type": "code",
   "source": "print(len(myinfo))",
   "id": "ee6b55227c871286",
   "outputs": [
    {
     "name": "stdout",
     "output_type": "stream",
     "text": [
      "5\n"
     ]
    }
   ],
   "execution_count": 7
  },
  {
   "metadata": {},
   "cell_type": "markdown",
   "source": "check if cairo in dict or not ?",
   "id": "2b486becc2e5b66a"
  },
  {
   "metadata": {
    "ExecuteTime": {
     "end_time": "2024-05-21T09:18:03.552140Z",
     "start_time": "2024-05-21T09:18:03.546666Z"
    }
   },
   "cell_type": "code",
   "source": "print('cairo' in myinfo) # check if value exists in keys ? ",
   "id": "a5c01db62b5b5e11",
   "outputs": [
    {
     "name": "stdout",
     "output_type": "stream",
     "text": [
      "False\n"
     ]
    }
   ],
   "execution_count": 8
  },
  {
   "metadata": {},
   "cell_type": "markdown",
   "source": "get keys of dict",
   "id": "193b79ccd2ab914c"
  },
  {
   "metadata": {
    "ExecuteTime": {
     "end_time": "2024-05-21T09:20:29.763878Z",
     "start_time": "2024-05-21T09:20:29.757725Z"
    }
   },
   "cell_type": "code",
   "source": [
    "d_keys = myinfo.keys()\n",
    "print(d_keys)\n",
    "print(list(d_keys))\n",
    "for k in d_keys:\n",
    "    print(k)"
   ],
   "id": "d0ef48c4d3916d99",
   "outputs": [
    {
     "name": "stdout",
     "output_type": "stream",
     "text": [
      "dict_keys(['name', 'age', 'city', 'work', 'currentcourse'])\n",
      "['name', 'age', 'city', 'work', 'currentcourse']\n",
      "name\n",
      "age\n",
      "city\n",
      "work\n",
      "currentcourse\n"
     ]
    }
   ],
   "execution_count": 11
  },
  {
   "metadata": {},
   "cell_type": "markdown",
   "source": "get dict values",
   "id": "df8e94878dd3b9b9"
  },
  {
   "metadata": {
    "ExecuteTime": {
     "end_time": "2024-05-21T09:20:49.976415Z",
     "start_time": "2024-05-21T09:20:49.971098Z"
    }
   },
   "cell_type": "code",
   "source": [
    "d_values = myinfo.values()\n",
    "print(d_values)"
   ],
   "id": "93d31d53ae5fc3ac",
   "outputs": [
    {
     "name": "stdout",
     "output_type": "stream",
     "text": [
      "dict_values(['Noha Shehab', 31, 'cairo', 'iti', 'python'])\n"
     ]
    }
   ],
   "execution_count": 12
  },
  {
   "metadata": {
    "ExecuteTime": {
     "end_time": "2024-05-21T09:20:58.306124Z",
     "start_time": "2024-05-21T09:20:58.299995Z"
    }
   },
   "cell_type": "code",
   "source": "print(list(d_values))",
   "id": "d9f1673a517493fd",
   "outputs": [
    {
     "name": "stdout",
     "output_type": "stream",
     "text": [
      "['Noha Shehab', 31, 'cairo', 'iti', 'python']\n"
     ]
    }
   ],
   "execution_count": 13
  },
  {
   "metadata": {
    "ExecuteTime": {
     "end_time": "2024-05-21T09:21:10.021960Z",
     "start_time": "2024-05-21T09:21:10.017367Z"
    }
   },
   "cell_type": "code",
   "source": "print('cairo'in d_values)",
   "id": "94ec2ede9cd14dba",
   "outputs": [
    {
     "name": "stdout",
     "output_type": "stream",
     "text": [
      "True\n"
     ]
    }
   ],
   "execution_count": 14
  },
  {
   "metadata": {
    "ExecuteTime": {
     "end_time": "2024-05-21T09:21:56.914650Z",
     "start_time": "2024-05-21T09:21:56.909021Z"
    }
   },
   "cell_type": "code",
   "source": "print(myinfo['work'])",
   "id": "e1d7b8f08c2a3fa4",
   "outputs": [
    {
     "name": "stdout",
     "output_type": "stream",
     "text": [
      "iti\n"
     ]
    }
   ],
   "execution_count": 15
  },
  {
   "metadata": {},
   "cell_type": "markdown",
   "source": "loop over the dict ",
   "id": "76a7cc54d4ac5bb6"
  },
  {
   "metadata": {
    "ExecuteTime": {
     "end_time": "2024-05-21T09:24:07.805809Z",
     "start_time": "2024-05-21T09:24:07.800075Z"
    }
   },
   "cell_type": "code",
   "source": [
    "for item in myinfo:\n",
    "    print(f\"item:{item}, {myinfo[item]}\")"
   ],
   "id": "f1f7231128d63ee2",
   "outputs": [
    {
     "name": "stdout",
     "output_type": "stream",
     "text": [
      "item:name, Noha Shehab\n",
      "item:age, 31\n",
      "item:city, cairo\n",
      "item:work, iti\n",
      "item:currentcourse, python\n"
     ]
    }
   ],
   "execution_count": 17
  },
  {
   "metadata": {},
   "cell_type": "markdown",
   "source": "get dict_items ",
   "id": "1554bf85674af769"
  },
  {
   "metadata": {
    "ExecuteTime": {
     "end_time": "2024-05-21T09:25:17.522914Z",
     "start_time": "2024-05-21T09:25:17.518288Z"
    }
   },
   "cell_type": "code",
   "source": [
    "d_items = myinfo.items()\n",
    "print(d_items)\n"
   ],
   "id": "33538a17b2433b8c",
   "outputs": [
    {
     "name": "stdout",
     "output_type": "stream",
     "text": [
      "dict_items([('name', 'Noha Shehab'), ('age', 31), ('city', 'cairo'), ('work', 'iti'), ('currentcourse', 'python')])\n"
     ]
    }
   ],
   "execution_count": 18
  },
  {
   "metadata": {
    "ExecuteTime": {
     "end_time": "2024-05-21T09:28:36.923548Z",
     "start_time": "2024-05-21T09:28:36.918363Z"
    }
   },
   "cell_type": "code",
   "source": [
    "additional_info = {'salary':1000, 'track': 'bi', 'name':'noha'}\n",
    "myinfo.update(additional_info)\n",
    "print(myinfo)"
   ],
   "id": "64f5a80dd46a2714",
   "outputs": [
    {
     "name": "stdout",
     "output_type": "stream",
     "text": [
      "{'name': 'noha', 'age': 31, 'city': 'cairo', 'work': 'iti', 'currentcourse': 'python', 'salary': 1000, 'track': 'bi'}\n"
     ]
    }
   ],
   "execution_count": 20
  },
  {
   "metadata": {},
   "cell_type": "markdown",
   "source": "pop key value pair from dict ",
   "id": "e81c92d586010fd6"
  },
  {
   "metadata": {
    "ExecuteTime": {
     "end_time": "2024-05-21T09:32:01.689443Z",
     "start_time": "2024-05-21T09:32:01.683850Z"
    }
   },
   "cell_type": "code",
   "source": [
    "print(myinfo)\n",
    "myinfo.pop('salary')\n",
    "print(myinfo)"
   ],
   "id": "6f4ac9848d180d72",
   "outputs": [
    {
     "name": "stdout",
     "output_type": "stream",
     "text": [
      "{'name': 'noha', 'age': 31, 'city': 'cairo', 'work': 'iti', 'currentcourse': 'python', 'salary': 1000, 'track': 'bi'}\n",
      "{'name': 'noha', 'age': 31, 'city': 'cairo', 'work': 'iti', 'currentcourse': 'python', 'track': 'bi'}\n"
     ]
    }
   ],
   "execution_count": 22
  },
  {
   "metadata": {
    "ExecuteTime": {
     "end_time": "2024-05-21T09:32:32.315180Z",
     "start_time": "2024-05-21T09:32:32.310601Z"
    }
   },
   "cell_type": "code",
   "source": [
    "del myinfo['track']\n",
    "print(myinfo)"
   ],
   "id": "8a80d988c321ca21",
   "outputs": [
    {
     "name": "stdout",
     "output_type": "stream",
     "text": [
      "{'name': 'noha', 'age': 31, 'city': 'cairo', 'work': 'iti', 'currentcourse': 'python'}\n"
     ]
    }
   ],
   "execution_count": 23
  },
  {
   "metadata": {},
   "cell_type": "code",
   "outputs": [],
   "execution_count": null,
   "source": [
    "myinfo.clear() # leave dict empty {}\n",
    "del myinfo  # remove dict from file"
   ],
   "id": "40a1bf4b3b1b0998"
  }
 ],
 "metadata": {
  "kernelspec": {
   "display_name": "Python 3",
   "language": "python",
   "name": "python3"
  },
  "language_info": {
   "codemirror_mode": {
    "name": "ipython",
    "version": 2
   },
   "file_extension": ".py",
   "mimetype": "text/x-python",
   "name": "python",
   "nbconvert_exporter": "python",
   "pygments_lexer": "ipython2",
   "version": "2.7.6"
  }
 },
 "nbformat": 4,
 "nbformat_minor": 5
}
