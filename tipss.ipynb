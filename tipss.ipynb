{
 "cells": [
  {
   "metadata": {},
   "cell_type": "markdown",
   "source": "break ",
   "id": "28be1f40a6bd015c"
  },
  {
   "metadata": {
    "ExecuteTime": {
     "end_time": "2024-05-21T09:35:16.988868Z",
     "start_time": "2024-05-21T09:35:16.982638Z"
    }
   },
   "cell_type": "code",
   "source": [
    "for i in range(10):\n",
    "    if i == 4:\n",
    "        break # break the loop\n",
    "    print(i)\n",
    "print(\"--- end of loop\")"
   ],
   "id": "4d8339fde98cce92",
   "outputs": [
    {
     "name": "stdout",
     "output_type": "stream",
     "text": [
      "0\n",
      "1\n",
      "2\n",
      "3\n",
      "--- end of loop\n"
     ]
    }
   ],
   "execution_count": 3
  },
  {
   "metadata": {},
   "cell_type": "markdown",
   "source": "",
   "id": "b36e05e0fa003ad4"
  },
  {
   "metadata": {
    "ExecuteTime": {
     "end_time": "2024-05-21T09:37:23.356694Z",
     "start_time": "2024-05-21T09:37:23.351153Z"
    }
   },
   "cell_type": "code",
   "source": [
    "for i in range(10):\n",
    "    if i == 4:\n",
    "        continue # skip to the next\n",
    "    print(i)\n",
    "print(\"--- end of loop\")"
   ],
   "id": "907e0435f8f2c874",
   "outputs": [
    {
     "name": "stdout",
     "output_type": "stream",
     "text": [
      "0\n",
      "1\n",
      "2\n",
      "3\n",
      "5\n",
      "6\n",
      "7\n",
      "8\n",
      "9\n",
      "--- end of loop\n"
     ]
    }
   ],
   "execution_count": 4
  },
  {
   "metadata": {
    "ExecuteTime": {
     "end_time": "2024-05-21T09:41:19.006057Z",
     "start_time": "2024-05-21T09:41:15.599623Z"
    }
   },
   "cell_type": "code",
   "source": [
    "for i in range(3):\n",
    "    password = input(\"Enter password: \")\n",
    "    if password=='abc':\n",
    "        print(\"Password is correct., logged in successfully\")\n",
    "        break\n",
    "    print('incorrect password, in correct password')\n",
    "    \n",
    "    if i==2:\n",
    "        print(\"---- account has been locked\")\n",
    "    "
   ],
   "id": "3b07e9b3e6a5d641",
   "outputs": [
    {
     "name": "stdout",
     "output_type": "stream",
     "text": [
      "incorrect password, in correct password\n",
      "incorrect password, in correct password\n",
      "incorrect password, in correct password\n",
      "---- account has been locked\n"
     ]
    }
   ],
   "execution_count": 8
  },
  {
   "metadata": {},
   "cell_type": "markdown",
   "source": "for -> else ",
   "id": "fede35f3964864f9"
  },
  {
   "cell_type": "code",
   "id": "initial_id",
   "metadata": {
    "collapsed": true,
    "ExecuteTime": {
     "end_time": "2024-05-21T09:43:07.405297Z",
     "start_time": "2024-05-21T09:43:03.785545Z"
    }
   },
   "source": [
    "for i in range(3):\n",
    "    password = input(\"Enter password: \")\n",
    "    if password=='abc':\n",
    "        print(\"Password is correct., logged in successfully\")\n",
    "        break\n",
    "    print('incorrect password')\n",
    "    \n",
    "else:\n",
    "    print(\"---- account has been locked \")"
   ],
   "outputs": [
    {
     "name": "stdout",
     "output_type": "stream",
     "text": [
      "incorrect password\n",
      "incorrect password\n",
      "incorrect password\n",
      "---- account has been locked \n"
     ]
    }
   ],
   "execution_count": 11
  },
  {
   "metadata": {},
   "cell_type": "markdown",
   "source": "pass keyword ?",
   "id": "59e5a6861011b83a"
  },
  {
   "metadata": {
    "ExecuteTime": {
     "end_time": "2024-05-21T09:46:24.229671Z",
     "start_time": "2024-05-21T09:46:24.223867Z"
    }
   },
   "cell_type": "code",
   "source": [
    "x = 0\n",
    "if x == 0:\n",
    "    pass  # represent null operation when a statement is required syntactically \n",
    "    "
   ],
   "id": "a5fa0d81877b395",
   "outputs": [
    {
     "ename": "SyntaxError",
     "evalue": "incomplete input (2789957535.py, line 3)",
     "output_type": "error",
     "traceback": [
      "\u001B[0;36m  Cell \u001B[0;32mIn[12], line 3\u001B[0;36m\u001B[0m\n\u001B[0;31m    \u001B[0m\n\u001B[0m    ^\u001B[0m\n\u001B[0;31mSyntaxError\u001B[0m\u001B[0;31m:\u001B[0m incomplete input\n"
     ]
    }
   ],
   "execution_count": 12
  },
  {
   "metadata": {},
   "cell_type": "code",
   "outputs": [],
   "execution_count": null,
   "source": [
    "for i in range(10):\n",
    "    pass  "
   ],
   "id": "f732ccd491e1e917"
  },
  {
   "metadata": {},
   "cell_type": "markdown",
   "source": [
    "3 \n",
    "1,2,3\n",
    "\n",
    "[\n",
    "    [1],  1*1\n",
    "    [2,4], 2*1  , 2*2\n",
    "    [3,6,9] 3*1, 3*2, 3*3\n",
    "]"
   ],
   "id": "54c99c09b53190a8"
  }
 ],
 "metadata": {
  "kernelspec": {
   "display_name": "Python 3",
   "language": "python",
   "name": "python3"
  },
  "language_info": {
   "codemirror_mode": {
    "name": "ipython",
    "version": 2
   },
   "file_extension": ".py",
   "mimetype": "text/x-python",
   "name": "python",
   "nbconvert_exporter": "python",
   "pygments_lexer": "ipython2",
   "version": "2.7.6"
  }
 },
 "nbformat": 4,
 "nbformat_minor": 5
}
